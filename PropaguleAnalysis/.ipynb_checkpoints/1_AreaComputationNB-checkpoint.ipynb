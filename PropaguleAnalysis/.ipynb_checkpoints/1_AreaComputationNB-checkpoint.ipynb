{
 "cells": [
  {
   "cell_type": "markdown",
   "metadata": {},
   "source": [
    "# Computation of shape contour and area during growth of propagules.\n"
   ]
  },
  {
   "cell_type": "markdown",
   "metadata": {},
   "source": [
    "##  Documentation and Imports\n",
    "\n",
    "\n",
    "Created on 27-05-2021\n",
    "\n",
    "Author: Valentin Laplaud\n",
    "\n",
    "This code aims to compute the shape of propagules growing in microfluidic chips. It detects gemmae contours using binarization, and saves the data of the contour position on the image, as well as the area and geometrical center position of each gemmae. \n",
    "\n",
    "A second part fits the evolution of gemmae in time with a delayed exponential."
   ]
  },
  {
   "cell_type": "code",
   "execution_count": null,
   "metadata": {
    "init_cell": true
   },
   "outputs": [],
   "source": [
    "## Clean up before script start \n",
    "\n",
    "for element in dir():\n",
    "\n",
    "    if element[0:1] != \"_\":\n",
    "\n",
    "        del globals()[element]\n",
    "\n",
    "import gc\n",
    "gc.collect()\n",
    "\n",
    "# plotting stuff in jupyter\n",
    "import matplotlib as mpl\n",
    "mpl.use('TkAgg')\n",
    "%matplotlib inline\n",
    "\n",
    "COLOR = 'white'\n",
    "COLOR2 = 'black'\n",
    "\n",
    "mpl.rcParams['text.color'] = COLOR\n",
    "mpl.rcParams['axes.labelcolor'] = COLOR\n",
    "mpl.rcParams['xtick.color'] = COLOR\n",
    "mpl.rcParams['ytick.color'] = COLOR\n",
    "mpl.rcParams['axes.edgecolor'] = COLOR\n",
    "\n",
    "mpl.rcParams[\"figure.facecolor\"] = COLOR2\n",
    "mpl.rcParams[\"axes.facecolor\"] = COLOR2\n",
    "mpl.rcParams[\"savefig.facecolor\"] = COLOR2\n",
    "mpl.rcParams['axes.facecolor'] = COLOR2\n",
    "\n",
    "\n",
    "# to hide known warnings\n",
    "import warnings\n",
    "warnings.filterwarnings(\"ignore\")\n",
    "\n",
    "# my functions\n",
    "import sys\n",
    "sys.path.append('../PythonFunctions/')\n",
    "import VallapFunc as vf\n",
    "from Main import BinarizeAndFitArea, BinarizeAndFitOsChoc\n",
    "import numpy as np"
   ]
  },
  {
   "cell_type": "markdown",
   "metadata": {},
   "source": [
    "## Fetch data details"
   ]
  },
  {
   "cell_type": "code",
   "execution_count": null,
   "metadata": {
    "init_cell": true
   },
   "outputs": [],
   "source": [
    "%run D:/Users/laplaud/Desktop/PostDoc/Code/JupyterNB/ExperimentList.py"
   ]
  },
  {
   "cell_type": "markdown",
   "metadata": {},
   "source": [
    "## Run analysis"
   ]
  },
  {
   "cell_type": "markdown",
   "metadata": {
    "heading_collapsed": true
   },
   "source": [
    "### Flux controls V5 (03/27-09-2021)"
   ]
  },
  {
   "cell_type": "code",
   "execution_count": null,
   "metadata": {
    "hidden": true,
    "scrolled": false
   },
   "outputs": [],
   "source": [
    "# BinarizeAndFitArea('210903_1mlh',StackList210903_1,P210903_1,Scale210903,FPH210903,Delay210903,0.98,'F',\n",
    "#                    debug = False, debugAll = False, HSVrange =[(30, 30, 70),(60, 120,220)])\n",
    "\n",
    "# BinarizeAndFitArea('210903_500ulh',StackList210903_5,P210903_5,Scale210903,FPH210903,Delay210903,0.98,'F',\n",
    "#                    debug = False, debugAll = False, HSVrange =[(30, 30, 70),(60, 120,220)])\n",
    "\n",
    "\n",
    "\n",
    "# BinarizeAndFitArea('210927_1mlh',StackList210927_1,P210927_1,Scale210927,FPH210927,Delay210927,0.98,'F',\n",
    "#                    debug = False, debugAll = False, HSVrange =[(30, 30, 70),(60, 120,220)])\n",
    "\n",
    "# BinarizeAndFitArea('210927_500ulh',StackList210927_5,P210927_5,Scale210927,FPH210927,Delay210927,0.98,'F',\n",
    "#                    debug = False, debugAll = False, HSVrange =[(30, 30, 70),(60, 120,220)])"
   ]
  },
  {
   "cell_type": "markdown",
   "metadata": {
    "heading_collapsed": true
   },
   "source": [
    "### System control DV6 (22-10-2021)"
   ]
  },
  {
   "cell_type": "code",
   "execution_count": null,
   "metadata": {
    "hidden": true,
    "scrolled": true
   },
   "outputs": [],
   "source": [
    "# BinarizeAndFitArea('211022_Ct1',StackList211022_Ct1,P211022_Ct1,Scale211022,FPH211022,Delay211022,0.98,'F',\n",
    "#                    debug = False, debugAll = False, HSVrange =[(30, 30, 70),(60, 120,220)])\n",
    "\n",
    "# BinarizeAndFitArea('211022_Ct2',StackList211022_Ct2,P211022_Ct2,Scale211022,FPH211022,Delay211022,0.98,'F',\n",
    "#                    debug = False, debugAll = False, HSVrange =[(30, 30, 70),(60, 120,220)])"
   ]
  },
  {
   "cell_type": "markdown",
   "metadata": {
    "heading_collapsed": true
   },
   "source": [
    "### Degas & BSA controls DV6 (05-11-2021, 22-12-2021)"
   ]
  },
  {
   "cell_type": "code",
   "execution_count": null,
   "metadata": {
    "hidden": true,
    "scrolled": false
   },
   "outputs": [],
   "source": [
    "# BinarizeAndFitArea('211105_Deg_Bsa',StackList211105_Deg_Bsa,P211105_Deg_Bsa,Scale211105,FPH211105,Delay211105,0.98,'F',\n",
    "#                    debug = False, debugAll = False, HSVrange =[(30, 20, 70),(60, 120,220)])\n",
    "\n",
    "# BinarizeAndFitArea('211105_Degas',StackList211105_Degas,P211105_Degas,Scale211105,FPH211105,Delay211105,0.98,'F',\n",
    "#                    debug = False, debugAll = False, HSVrange =[(30, 20, 70),(60, 120,220)])\n",
    "\n",
    "\n",
    "\n",
    "# BinarizeAndFitArea('211222_Deg_Bsa',StackList211222_Deg_Bsa,P211222_Deg_Bsa,Scale211222,FPH211222,Delay211222,0.98,'F',\n",
    "#                    debug = False, debugAll = False, HSVrange =[(30, 30, 70),(60, 120,220)])\n",
    "\n",
    "# BinarizeAndFitArea('211222_Degas',StackList211222_Degas,P211222_Degas,Scale211222,FPH211222,Delay211222,0.98,'F',\n",
    "#                    debug = False, debugAll = False, HSVrange =[(30, 30, 70),(60, 120,220)])"
   ]
  },
  {
   "cell_type": "markdown",
   "metadata": {
    "heading_collapsed": true
   },
   "source": [
    "### Stade comparison DV6 (07/12/14-01-2022)"
   ]
  },
  {
   "cell_type": "code",
   "execution_count": null,
   "metadata": {
    "hidden": true,
    "scrolled": true
   },
   "outputs": [],
   "source": [
    "# BinarizeAndFitArea('220107_S1',StackList220107_S1,P220107_S1,Scale220107,FPH220107,Delay220107,0.98,'F',\n",
    "#                    debug = False, debugAll = False, HSVrange =[(25, 30, 70),(60, 120,220)])\n",
    "\n",
    "# BinarizeAndFitArea('220107_S3',StackList220107_S3,P220107_S3,Scale220107,FPH220107,Delay220107,0.98,'F',\n",
    "#                    debug = False, debugAll = False, HSVrange =[(25, 30, 70),(60, 120,220)])\n",
    "\n",
    "\n",
    "\n",
    "# BinarizeAndFitArea('220112_S1',StackList220112_S1,P220112_S1,Scale220112,FPH220112,Delay220112,0.98,'F',\n",
    "#                    debug = False, debugAll = False, HSVrange =[(20, 30, 70),(60, 120,220)])\n",
    "\n",
    "# BinarizeAndFitArea('220112_S3',StackList220112_S3,P220112_S3,Scale220112,FPH220112,Delay220112,0.98,'F',\n",
    "#                    debug = False, debugAll = False, HSVrange =[(20, 30, 70),(60, 120,220)])\n",
    "\n",
    "\n",
    "\n",
    "# BinarizeAndFitArea('220114_S1',StackList220114_S1,P220114_S1,Scale220114,FPH220114,Delay220114,0.98,'F',\n",
    "#                    debug = False, debugAll = False, HSVrange =[(25, 25, 70),(60, 120,220)])\n",
    "\n",
    "# BinarizeAndFitArea('220114_S3',StackList220114_S3,P220114_S3,Scale220114,FPH220114,Delay220114,0.98,'F',\n",
    "#                    debug = False, debugAll = False, HSVrange =[(25, 25, 70),(60, 120,220)])"
   ]
  },
  {
   "cell_type": "markdown",
   "metadata": {
    "heading_collapsed": true
   },
   "source": [
    "### System controls with Stade1 & degas DV6 (24-01-2022,14-02-2022)"
   ]
  },
  {
   "cell_type": "code",
   "execution_count": null,
   "metadata": {
    "hidden": true,
    "scrolled": true
   },
   "outputs": [],
   "source": [
    "fw = 15\n",
    "\n",
    "# BinarizeAndFitArea('220124_Ct1',StackList220124_Ct1,P220124_Ct1,Scale220124,FPH220124,Delay220124,0.98,'F',\n",
    "#                    debug = False, debugAll = False, HSVrange =[(15, 17, 60),(70, 140,220)],fitwindow=fw)\n",
    "\n",
    "# BinarizeAndFitArea('220124_Ct2',StackList220124_Ct2,P220124_Ct2,Scale220124,FPH220124,Delay220124,0.98,'F',\n",
    "#                    debug = False, debugAll = False, HSVrange =[(15, 17, 60),(70, 140,220)],fitwindow=fw)\n",
    "\n",
    "# BinarizeAndFitArea('220214_Ct1',StackList220214_Ct1,P220214_Ct1,Scale220214,FPH220214,Delay220214,0.98,'F',\n",
    "#                    debug = False, debugAll = False, debuglist = [0,1,2,3,4,10,20,30],HSVrange =[(15, 17, 60),(70, 140,220)],fitwindow=fw)\n",
    "\n",
    "# BinarizeAndFitArea('220214_Ct2',StackList220214_Ct2,P220214_Ct2,Scale220214,FPH220214,Delay220214,0.98,'F',\n",
    "#                    debug = False, debugAll = False, HSVrange =[(15, 17, 60),(70, 140,220)],fitwindow=fw)"
   ]
  },
  {
   "cell_type": "markdown",
   "metadata": {},
   "source": [
    "### Osmotic choc after 14-02-2022 "
   ]
  },
  {
   "cell_type": "code",
   "execution_count": null,
   "metadata": {
    "scrolled": false
   },
   "outputs": [],
   "source": [
    "# BinarizeAndFitOsChoc('220214_Ct1_Osmo',StackList220214_Ct1_Osmo,P220214_Ct1_Osmo,Scale220214_Osmo,FPH220214_Osmo,0.98,'F',\n",
    "#                    showHist = False, debug = False, HSVrange =[(15, 30, 60),(70, 140,220)],FitIntervalComp = [0,25],\n",
    "#                      FitIntervalRel = [23,60])\n",
    "\n",
    "# BinarizeAndFitOsChoc('220214_Ct2_Osmo',StackList220214_Ct2_Osmo,P220214_Ct2_Osmo,Scale220214_Osmo,FPH220214_Osmo,0.98,'F',\n",
    "#                    showHist = False, debug = False, HSVrange =[(15, 30, 60),(70, 140,220)],FitIntervalComp = [0,25],\n",
    "#                      FitIntervalRel = [23,60])\n",
    "  "
   ]
  },
  {
   "cell_type": "markdown",
   "metadata": {
    "heading_collapsed": true
   },
   "source": [
    "### Manitol 100mM (01-03-2022) + OC"
   ]
  },
  {
   "cell_type": "code",
   "execution_count": null,
   "metadata": {
    "hidden": true,
    "scrolled": false
   },
   "outputs": [],
   "source": [
    "# BinarizeAndFitArea('220301_Ct',StackList220301_Ct,P220301_Ct,Scale220301,FPH220301,Delay220301,0.98,'F',\n",
    "#                    debug = False, debugAll = False, debuglist = [0], HSVrange =[(15, 17, 60),(70, 140,220)],fitwindow=15)\n",
    "# BinarizeAndFitOsChoc('220301_Ct_Osmo',StackList220301_Ct_Osmo,P220301_Ct_Osmo,Scale220301_Osmo,FPH220301_Osmo,0.98,'F',\n",
    "#                    showHist = False, debug = False, debuglist = [0], HSVrange =[(15, 17, 60),(70, 140,220)],\n",
    "#                      FitIntervalComp = [0,25],FitIntervalRel = [23,60])\n",
    "\n",
    "\n",
    "\n",
    "# BinarizeAndFitArea('220301_M100',StackList220301_M100,P220301_M100,Scale220301,FPH220301,Delay220301,0.98,'F',\n",
    "#                    debug = False, debugAll = False, debuglist = [0], HSVrange =[(15, 17, 60),(70, 140,220)],fitwindow=15)\n",
    "# BinarizeAndFitOsChoc('220301_M100_Osmo',StackList220301_M100_Osmo,P220301_M100_Osmo,Scale220301_Osmo,FPH220301_Osmo,0.98,'F',\n",
    "#                    showHist = False, debug = False, debuglist = [0], HSVrange =[(15, 17, 60),(70, 140,220)],\n",
    "#                      FitIntervalComp = [0,25],FitIntervalRel = [23,60])"
   ]
  },
  {
   "cell_type": "markdown",
   "metadata": {},
   "source": [
    "### DV7 ctrls + OC (31-05-2022) "
   ]
  },
  {
   "cell_type": "code",
   "execution_count": null,
   "metadata": {
    "scrolled": false
   },
   "outputs": [],
   "source": [
    "# BinarizeAndFitArea('220531_Ct1',StackList220531_Ct1,P220531_Ct1,Scale220531,FPH220531,Delay220531,0.98,'BCF',\n",
    "#                    debug = True, debugAll = False, debuglist = [0,30], HSVrange =[(20, 20, 60),(75, 160,240)],fitwindow=fw)\n",
    "\n",
    "# BinarizeAndFitArea('220531_Ct2',StackList220531_Ct2,P220531_Ct2,Scale220531,FPH220531,Delay220531,0.98,'BCF',\n",
    "#                    debug = True, debugAll = False, debuglist = [0,10,40], HSVrange =[(20, 20, 60),(75, 160,240)],fitwindow=fw)\n",
    "\n",
    "\n",
    "# BinarizeAndFitOsChoc('220531_Ct1_Osmo',StackList220531_Ct1_Osmo,P220531_Ct1_Osmo,Scale220531_Osmo,FPH220531_Osmo,0.98,'F',\n",
    "#                    showHist = False, debug = False, debuglist = [0], HSVrange = [(20, 20, 60),(75, 160,240)] ,FitIntervalComp = [0,25],\n",
    "#                      FitIntervalRel = [23,60])  \n",
    "\n",
    "# BinarizeAndFitOsChoc('220531_Ct2_Osmo',StackList220531_Ct2_Osmo,P220531_Ct2_Osmo,Scale220531_Osmo,FPH220531_Osmo,0.95,'F',\n",
    "#                    showHist = False, debug = False, debuglist = [0,10,40], HSVrange = [(20, 20, 60),(75, 160,240)] ,FitIntervalComp = [0,25],\n",
    "#                      FitIntervalRel = [23,60])  \n",
    "\n"
   ]
  },
  {
   "cell_type": "markdown",
   "metadata": {},
   "source": [
    "### DV7 Controls "
   ]
  },
  {
   "cell_type": "code",
   "execution_count": null,
   "metadata": {
    "scrolled": false
   },
   "outputs": [],
   "source": [
    "# BinarizeAndFitArea('220727_Hyper',StackList220727_Hyper,P220727_Hyper,Scale220727,FPH220727,Delay220722,0.98,'CF',\n",
    "#                    debug = True, debugAll = False, debuglist = np.arange(0,61), HSVrange =[(15, 25, 40),(70, 150,160)],fitwindow=15)\n",
    "\n",
    "# BinarizeAndFitArea('220727_Hypo',StackList220727_Hypo,P220727_Hypo,Scale220727,FPH220727,Delay220722,0.98,'F',\n",
    "#                    debug = False, debugAll =False, debuglist = [0], HSVrange =[(20, 25, 40),(70, 150,190)],fitwindow=15)\n"
   ]
  },
  {
   "cell_type": "markdown",
   "metadata": {},
   "source": [
    "### DV7 Ctrls + OC (01-08-2022)"
   ]
  },
  {
   "cell_type": "code",
   "execution_count": null,
   "metadata": {
    "code_folding": [],
    "scrolled": false
   },
   "outputs": [],
   "source": [
    "# BinarizeAndFitArea('220801_Ct1',StackList220801_Ct1,P220801_Ct1,Scale220801,FPH220801,Delay220722,0.98,'BCF',\n",
    "#                    debug = True, debugAll = False, debuglist = [0], HSVrange =[(15, 25, 40),(70, 150,160)],fitwindow=15)\n",
    "\n",
    "# BinarizeAndFitArea('220801_Ct2',StackList220801_Ct2,P220801_Ct2,Scale220801,FPH220801,Delay220722,0.98,'BCF',\n",
    "#                    debug = False, debugAll =False, debuglist = [0], HSVrange =[(20, 25, 40),(70, 150,190)],fitwindow=15)\n",
    "\n",
    "\n",
    "# BinarizeAndFitOsChoc('220801_Ct1_Osmo',StackList220801_Ct1_Osmo,P220801_Ct1_Osmo,Scale220801_Osmo,FPH220801_Osmo,0.98,'F',\n",
    "#                    debug = False, showHist = False, debuglist = [0], HSVrange =[(20, 25, 40),(70, 150,160)],FitIntervalComp = [0,12],\n",
    "#                      FitIntervalRel = [23,60],TstartComp = 5,TstartRel = 9)\n",
    "\n",
    "\n",
    "# BinarizeAndFitOsChoc('220801_Ct2_Osmo',StackList220801_Ct2_Osmo,P220801_Ct2_Osmo,Scale220801_Osmo,FPH220801_Osmo,0.95,'BCF',\n",
    "#                    debug = False, showHist = True, debuglist = [0], HSVrange =[(20, 20, 40),(70, 160,180)],FitIntervalComp = [0,13],\n",
    "#                      RelValidation = False,TstartComp = 3, FitIntervalRel = [10,13],TstartRel = 1)"
   ]
  },
  {
   "cell_type": "markdown",
   "metadata": {
    "heading_collapsed": true
   },
   "source": [
    "### Natalia's ABA experiments (22-07-2022)"
   ]
  },
  {
   "cell_type": "code",
   "execution_count": null,
   "metadata": {
    "hidden": true,
    "scrolled": false
   },
   "outputs": [],
   "source": [
    "\n",
    "# BinarizeAndFitArea('220722_Ct',StackList220722_Ct,P220722_Ct,Scale220722,FPH220722,Delay220722,0.98,'F',\n",
    "#                    debug = True, debugAll = False, debuglist = [1, 20, 50], HSVrange =[(20, 25, 40),(70, 150,160)],fitwindow=15)\n",
    "\n",
    "# BinarizeAndFitArea('220722_ABA',StackList220722_ABA,P220722_ABA,Scale220722,FPH220722,Delay220722,0.98,'F',\n",
    "#                    debug = True, debugAll = False, debuglist = [0], HSVrange =[(20, 25, 40),(70, 150,160)],fitwindow=15)\n",
    "\n"
   ]
  },
  {
   "cell_type": "markdown",
   "metadata": {},
   "source": [
    "## Test Zone"
   ]
  },
  {
   "cell_type": "code",
   "execution_count": null,
   "metadata": {
    "scrolled": false
   },
   "outputs": [],
   "source": [
    "# %run D:/Users/laplaud/Desktop/PostDoc/Code/JupyterNB/PropaguleAnalysis/2_AreaAnalysis.ipynb"
   ]
  },
  {
   "cell_type": "code",
   "execution_count": null,
   "metadata": {},
   "outputs": [],
   "source": []
  }
 ],
 "metadata": {
  "celltoolbar": "Initialization Cell",
  "kernelspec": {
   "display_name": "Python 3",
   "language": "python",
   "name": "python3"
  },
  "language_info": {
   "codemirror_mode": {
    "name": "ipython",
    "version": 3
   },
   "file_extension": ".py",
   "mimetype": "text/x-python",
   "name": "python",
   "nbconvert_exporter": "python",
   "pygments_lexer": "ipython3",
   "version": "3.8.5"
  },
  "toc": {
   "base_numbering": 1,
   "nav_menu": {},
   "number_sections": true,
   "sideBar": true,
   "skip_h1_title": true,
   "title_cell": "Table of Contents",
   "title_sidebar": "Contents",
   "toc_cell": false,
   "toc_position": {
    "height": "750px",
    "left": "30px",
    "top": "290px",
    "width": "299px"
   },
   "toc_section_display": true,
   "toc_window_display": true
  }
 },
 "nbformat": 4,
 "nbformat_minor": 4
}
