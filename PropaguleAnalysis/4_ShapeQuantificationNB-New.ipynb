{
 "cells": [
  {
   "cell_type": "markdown",
   "metadata": {},
   "source": [
    "# Quantification of shape during growth of gemmae"
   ]
  },
  {
   "cell_type": "markdown",
   "metadata": {},
   "source": [
    "## Documentation and Imports\n",
    "\n",
    "\n",
    "Created on 01-04-2021\n",
    "\n",
    "Author: Valentin Laplaud\n",
    "\n",
    "This code is performing measurements on the gemma contours computed by 'ShapeParametrisationNB'\n",
    "\n",
    "This light version has only a few quantification used regularly, the complete version is an archive of all tested quantifications."
   ]
  },
  {
   "cell_type": "code",
   "execution_count": null,
   "metadata": {
    "code_folding": []
   },
   "outputs": [],
   "source": [
    "## Clean up before script start \n",
    "\n",
    "for element in dir():\n",
    "\n",
    "    if element[0:1] != \"_\":\n",
    "\n",
    "        del globals()[element]\n",
    "\n",
    "import gc\n",
    "gc.collect()\n",
    "\n",
    "\n",
    "print('\\033[1m' + '\\033[4m' + '\\nRunning ''ShapeQuantificationNB_Light'' \\n' + '\\033[0m')\n",
    "\n",
    "# plotting stuff\n",
    "import matplotlib as mpl\n",
    "mpl.use('TkAgg')\n",
    "%matplotlib inline\n",
    "\n",
    "COLOR = 'white'\n",
    "COLOR2 = 'black'\n",
    "\n",
    "mpl.rcParams['text.color'] = COLOR\n",
    "mpl.rcParams['axes.labelcolor'] = COLOR\n",
    "mpl.rcParams['xtick.color'] = COLOR\n",
    "mpl.rcParams['ytick.color'] = COLOR\n",
    "mpl.rcParams['axes.edgecolor'] = COLOR\n",
    "\n",
    "mpl.rcParams[\"figure.facecolor\"] = COLOR2\n",
    "mpl.rcParams[\"axes.facecolor\"] = COLOR2\n",
    "mpl.rcParams[\"savefig.facecolor\"] = COLOR2\n",
    "mpl.rcParams['axes.facecolor'] = COLOR2\n",
    "\n",
    "import matplotlib.pyplot as plt\n",
    "import matplotlib.path as mpltPath\n",
    "import seaborn as sns\n",
    "from cycler import cycler\n",
    "#Default colors\n",
    "colorcycle = [plt.get_cmap('gist_rainbow')(1. * i/30) for i in range(30)]\n",
    "mpl.rcParams['axes.prop_cycle'] = cycler(color=colorcycle)\n",
    "\n",
    "# numbers handling\n",
    "import numpy as np\n",
    "import pandas as pd\n",
    "\n",
    "# signal processing \n",
    "from scipy.signal import savgol_filter, correlate, correlation_lags\n",
    "from scipy.interpolate import interp1d\n",
    "from scipy.optimize import curve_fit, least_squares\n",
    "from scipy.stats import ranksums\n",
    "\n",
    "# images handling\n",
    "from skimage import io\n",
    "from skimage.filters import threshold_otsu, gaussian, laplace, sobel\n",
    "from skimage.measure import label, regionprops, regionprops_table\n",
    "from skimage.util import invert\n",
    "from skimage.morphology import binary_opening, binary_closing, remove_small_holes,binary_erosion\n",
    "from skimage.color import rgb2gray\n",
    "from skimage.segmentation import active_contour, morphological_geodesic_active_contour,morphological_chan_vese, checkerboard_level_set, inverse_gaussian_gradient\n",
    "import cv2 as cv\n",
    "\n",
    "# to hide known warnings\n",
    "import warnings\n",
    "\n",
    "# General system functions\n",
    "import os\n",
    "import shutil\n",
    "import sys\n",
    "\n",
    "import time\n",
    "\n",
    "# my functions\n",
    "sys.path.append('../')\n",
    "import VallapFunc as vf\n"
   ]
  },
  {
   "cell_type": "markdown",
   "metadata": {},
   "source": [
    "## Define analysis functions"
   ]
  },
  {
   "cell_type": "markdown",
   "metadata": {},
   "source": [
    "###  Mean contour\n",
    "Alignement in time based on dormancy exit \n",
    "Contours computed when at least 20 gemmae are averageable"
   ]
  },
  {
   "cell_type": "code",
   "execution_count": null,
   "metadata": {
    "code_folding": []
   },
   "outputs": [],
   "source": [
    "def computeMeanContourTime(CD,GD,Tstarts):\n",
    "    StackList = np.unique(Tstarts.index)\n",
    "    \n",
    "    meanCD = pd.DataFrame(data=None,columns = ['X','Y','Img'])\n",
    "    meanGD = pd.DataFrame(data=None,columns = ['nppgs','Img'])\n",
    "    \n",
    "    # number of contour points\n",
    "    npts = len(CD.loc[(CD.index == StackList[0]) & (CD['Img'] == 0),'X'])\n",
    "    \n",
    "    cnt = 0 # number of mean contours done\n",
    "    \n",
    "    SL = StackList[:]\n",
    "    \n",
    "    nppgs = len(SL)\n",
    "\n",
    "    while nppgs>19:\n",
    "\n",
    "        print('Computing mean contour n°' + str(cnt+1) + ' :')\n",
    "\n",
    "        # Storing variables\n",
    "        alignedXs = np.empty((npts,nppgs))\n",
    "        alignedXs[:] = np.nan\n",
    "        alignedYs = np.empty((npts,nppgs))\n",
    "        alignedYs[:] = np.nan\n",
    "\n",
    "\n",
    "        for s,i in zip(SL,range(len(SL))) :\n",
    "\n",
    "            alignedXs[:,i] = CD.loc[(CD.index==s) & (CD['Img'] == int(cnt+Tstarts[s])), 'X']\n",
    "            alignedYs[:,i] = CD.loc[(CD.index==s) & (CD['Img'] == int(cnt+Tstarts[s])), 'Y']\n",
    "            GD.loc[(GD.index==s) & (GD['Img'] == int(cnt+Tstarts[s])),'MeanCimg'] = cnt\n",
    "\n",
    "        meanX = np.mean(alignedXs,axis=1)\n",
    "        meanY = np.mean(alignedYs,axis=1)           \n",
    "\n",
    "        print(str(nppgs) + ' contours averaged together.\\n')\n",
    "\n",
    "        data = {'X':meanX,\n",
    "                    'Y':meanY,\n",
    "                    'Img':cnt*np.ones(len(meanX))} \n",
    "\n",
    "        newdata = pd.DataFrame(data=data,index = np.repeat('meanC',len(meanX)))\n",
    "\n",
    "        meanCD = meanCD.append(newdata) # adding to global dataframe\n",
    "        \n",
    "        data = {'nppgs':nppgs,\n",
    "            'Img':cnt} \n",
    "\n",
    "        newdata = pd.DataFrame(data=data,index = ['meanC'])\n",
    "        \n",
    "        meanGD = meanGD.append(newdata)\n",
    "        \n",
    "        \n",
    "        cnt = cnt+1\n",
    "        newSL = []\n",
    "        for s in SL :\n",
    "            if np.max(CD.loc[s,'Img'])-Tstarts[s]-cnt>0:\n",
    "                newSL.append(s)\n",
    "        \n",
    "        SL = newSL[:]\n",
    "        \n",
    "        nppgs = len(SL)\n",
    "    \n",
    "    return(meanCD,meanGD)\n",
    "            \n",
    "\n",
    "print('Function defined.')"
   ]
  },
  {
   "cell_type": "markdown",
   "metadata": {},
   "source": [
    "### Distance to mean contours"
   ]
  },
  {
   "cell_type": "code",
   "execution_count": null,
   "metadata": {},
   "outputs": [],
   "source": [
    "def DistToMean(Pfig,CD,GD,CDmean,Expname,**kwargs):\n",
    "    \n",
    "    ## Params\n",
    "    StackList = np.unique(GD.index)\n",
    "    \n",
    "    nimg = int(np.max(CDmean['Img']))\n",
    "    \n",
    "    ## Kwargs    \n",
    "    showPlots = False\n",
    "    doPlots = False\n",
    "    \n",
    "    for key, value in kwargs.items(): \n",
    "        if key == 'doPlots':\n",
    "            doPlots = value\n",
    "            showPlots = value\n",
    "        elif key == 'showPlots':\n",
    "            showPlots = value         \n",
    "        else:\n",
    "            print('Unknown key : ' + key + '. Kwarg ignored.')\n",
    "    \n",
    "    ## Saving folders\n",
    "    if not os.path.exists(Pfig + '\\\\MeanContoursVariability\\\\'):\n",
    "        os.mkdir(Pfig + '\\\\MeanContoursVariability\\\\') # create general folder  \n",
    "    \n",
    "    fullP = Pfig + '\\\\MeanContoursVariability\\\\' + Expname + '\\\\'\n",
    "    \n",
    "    if not os.path.exists(fullP):\n",
    "            os.mkdir(fullP) # create experiment folder    \n",
    "              \n",
    "  \n",
    "          \n",
    "    ## Main code\n",
    "    for i in range(nimg+1):\n",
    "        \n",
    "        print('Computing variability around mean contours n°' + str(i))\n",
    "        \n",
    "        Xmean = CDmean.loc[CDmean['Img']==i,'X'].values\n",
    "        Ymean = CDmean.loc[CDmean['Img']==i,'Y'].values\n",
    "        \n",
    "        if doPlots:                        \n",
    "            fig,ax = plt.subplots(dpi=300)\n",
    "            fig.suptitle(Expname + ' contours+mean img n°' + str(i))\n",
    "            ax.set_aspect('equal', adjustable='box')\n",
    "            ax.set_xlabel('X (µm)')\n",
    "            ax.set_ylabel('Y (µm)')\n",
    "            \n",
    "            boundX = [np.max(CDmean.loc[CDmean['Img']==nimg,'X'])*1.5,np.min(CDmean.loc[CDmean['Img']==nimg,'X'])*1.5]\n",
    "            boundY = [np.max(CDmean.loc[CDmean['Img']==nimg,'Y'])*1.5,np.min(CDmean.loc[CDmean['Img']==nimg,'Y'])*1.5]\n",
    "            \n",
    "            ax.plot(boundX,boundY,'ko',ms = 1,zorder = -2)\n",
    "            \n",
    "            ax.plot(Xmean,Ymean,'r-',lw= 2,zorder=0)\n",
    "        \n",
    "        for s in StackList:\n",
    "            \n",
    "            if not GD.loc[(GD.index==s)&(GD['MeanCimg']==i),'Img'].values.size==0:\n",
    "                \n",
    "                AlgImg = GD.loc[ (GD.index==s) & (GD['MeanCimg']==i),'Img'].values[0]\n",
    "                \n",
    "                X = CD.loc[ (CD.index==s) & (CD['Img'] == AlgImg ),'X'].values\n",
    "                Y = CD.loc[ (CD.index==s) & (CD['Img'] == AlgImg ),'Y'].values\n",
    "\n",
    "                AllDists = vf.dist(X,Y,Xmean,Ymean)\n",
    "                CntDist = np.nanmedian(AllDists);\n",
    "                \n",
    "                GD.loc[(GD.index==s) & (GD['MeanCimg']==i),'CntDist'] = CntDist\n",
    "            \n",
    "                if doPlots:\n",
    "                    ax.plot(X,Y,'w-',lw=0.3,zorder=-1)\n",
    "        \n",
    "        \n",
    "        if doPlots:\n",
    "            fig.savefig(fullP + 'MeanAndVar_Img' + str(i)  + '.png')\n",
    "        \n",
    "            if showPlots:\n",
    "                plt.show() \n",
    "            else:\n",
    "                plt.close(fig)\n",
    "            \n",
    "                       \n",
    "    \n",
    "    \n",
    "    \n",
    "    "
   ]
  },
  {
   "cell_type": "markdown",
   "metadata": {},
   "source": [
    "### Distance between mean contours from different experiments"
   ]
  },
  {
   "cell_type": "code",
   "execution_count": null,
   "metadata": {},
   "outputs": [],
   "source": [
    "def DistBetwMean(CDMeans):\n",
    "    N = len(CDMeans)\n",
    "    \n",
    "    for i in range(0,N-1):\n",
    "        for j in range(i,N):\n",
    "            CD1 = CDMeans[i]\n",
    "            CD2 = CDMeans[j]\n",
    "            \n",
    "            "
   ]
  },
  {
   "cell_type": "markdown",
   "metadata": {},
   "source": [
    "## Plot fuctions"
   ]
  },
  {
   "cell_type": "markdown",
   "metadata": {
    "heading_collapsed": true
   },
   "source": [
    "### Plot evolution of individual contours in time."
   ]
  },
  {
   "cell_type": "code",
   "execution_count": null,
   "metadata": {
    "hidden": true
   },
   "outputs": [],
   "source": [
    "def plotIndiContours(Pfig, StackList,CD, Expname, **kwargs):\n",
    "    \n",
    "    Plots = False\n",
    "    \n",
    "    for key, value in kwargs.items(): \n",
    "        if key == 'showplots':\n",
    "            Plots = value\n",
    "        else:\n",
    "            print('Unknown key : ' + key + '. Kwarg ignored.')\n",
    "    \n",
    "    if not os.path.exists(Pfig + '\\\\IndividualContours\\\\'):\n",
    "        os.mkdir(Pfig + '\\\\IndividualContours\\\\') # create general folder  \n",
    "    \n",
    "    fullP = Pfig + '\\\\IndividualContours\\\\' + Expname + '\\\\'\n",
    "    \n",
    "    if not os.path.exists(fullP):\n",
    "            os.mkdir(fullP) # create experiment folder        \n",
    "            \n",
    "    for s in StackList:\n",
    "        \n",
    "        if not os.path.exists(fullP + '\\\\' + s + '\\\\'):\n",
    "            os.mkdir(fullP + '\\\\' + s + '\\\\') # create gemmae folder \n",
    "            \n",
    "        nimg = int(np.max(CD.loc[s, 'Img']))\n",
    "        \n",
    "        fig1, ax1 = plt.subplots(dpi=350)\n",
    "        fig1.suptitle(s + ' contours in time.')\n",
    "        ax1.set_aspect('equal', adjustable='box')\n",
    "        ax1.set_xlabel('X (µm)')\n",
    "        ax1.set_ylabel('Y (µm)')\n",
    "        \n",
    "        # plot invisible X,Y extremes to set the figure size\n",
    "        X = [CD.loc[s,'X'].min(),CD.loc[s,'X'].max()]\n",
    "        Y = [CD.loc[s,'Y'].min(),CD.loc[s,'Y'].max()]\n",
    "        ax1.plot(X,Y,color = 'k')\n",
    "        \n",
    "        colorcycle = [plt.get_cmap('plasma')(1. * i/nimg) for i in range(nimg)]\n",
    "        \n",
    "        for i in range(nimg):\n",
    "\n",
    "            X = CD.loc[(CD.index == s) & (CD['Img'] == i),'X']  \n",
    "            Y = CD.loc[(CD.index == s) & (CD['Img'] == i),'Y']\n",
    "\n",
    "            ax1.plot(X,Y,color = colorcycle[i])\n",
    "            \n",
    "            fig1.savefig(fullP  + '\\\\' + s + '\\\\' + s + ' - ' + str(i)  + '.png')\n",
    "            \n",
    "        \n",
    "        if Plots:\n",
    "            plt.show()\n",
    "        else:\n",
    "            plt.close(fig1)\n",
    "        \n",
    "        \n",
    "        "
   ]
  },
  {
   "cell_type": "markdown",
   "metadata": {},
   "source": [
    "### Plot distances to mean contour"
   ]
  },
  {
   "cell_type": "code",
   "execution_count": null,
   "metadata": {},
   "outputs": [],
   "source": [
    "def plotMeanDist(Pfig,GDs,Expname,colors,Times):\n",
    "    \n",
    "    ## Evolution in time per experiment\n",
    "    for j in range(len(Expname)):\n",
    "        GD = GDs[j]\n",
    "        \n",
    "        ## Saving folders\n",
    "        if not os.path.exists(Pfig + '\\\\MeanContoursVariability\\\\'):\n",
    "            os.mkdir(Pfig + '\\\\MeanContoursVariability\\\\') # create general folder  \n",
    "\n",
    "        fullP = Pfig + '\\\\MeanContoursVariability\\\\' + Expname[j] + '\\\\'\n",
    "\n",
    "        if not os.path.exists(fullP):\n",
    "                os.mkdir(fullP) # create experiment folder  \n",
    "\n",
    "        ## Params\n",
    "        StackList = np.unique(GD.index)\n",
    "\n",
    "        ## Preping figs\n",
    "        fig1,ax1 = plt.subplots(dpi=250) \n",
    "        fig1.suptitle('Evolution of distance to mean for ' + Expname[j])\n",
    "        ax1.set_xlabel('Time after dormancy exit (hours)')\n",
    "        ax1.set_ylabel('Distance to mean contour (µm)')\n",
    "        plotprops = {'color':'white'}\n",
    "        boxprops = {'color':'white','facecolor':colors[j]}\n",
    "\n",
    "        grouping = []\n",
    "        fulldata = []\n",
    "        cnt = 0\n",
    "        \n",
    "        ## Main code\n",
    "        for t in Times:\n",
    "            data = GD.loc[(GD['MeanCimg']==t*2),'CntDist'].values\n",
    "            \n",
    "            fulldata = np.append(fulldata,data)\n",
    "            grouping = np.append(grouping,np.ones(len(data))*t)\n",
    "\n",
    "            ax1.boxplot(data, positions = [cnt], patch_artist = True, widths = [0.7],\n",
    "                        boxprops=boxprops, capprops =plotprops,\n",
    "                        showfliers = False,whiskerprops=plotprops,medianprops =plotprops)\n",
    "            cnt = cnt+1\n",
    "        sns.swarmplot(x=grouping,y=fulldata,color = 'lightgray', size=2, ax = ax1)\n",
    "        ax1.set_xlim(left=-0.7,right=cnt-0.3)\n",
    "        ax1.set_xticklabels(Times)\n",
    "        \n",
    "    ### Comparison between experiments\n",
    "    for t in Times:\n",
    "        ## Preping figs\n",
    "        fig1,ax1 = plt.subplots(dpi=250) \n",
    "        fig1.suptitle('Distance to mean ' + str(t) + ' hours after dormancy exit')\n",
    "#         ax1.set_xlabel('Time after dormancy exit (hours)')\n",
    "#         ax1.set_ylabel('Distance to mean contour (µm)')\n",
    "\n",
    "        data = [None]*len(GDs)\n",
    "        cap = [None]*len(GDs)\n",
    "        grouping = []\n",
    "        fulldata = []\n",
    "        cnt = 0\n",
    "\n",
    "        for j in range(len(Expname)):\n",
    "            GD = GDs[j]\n",
    "            plotprops = {'color':'white'}\n",
    "            boxprops = {'color':'white','facecolor':colors[j]}\n",
    "            \n",
    "            data[j] = GD.loc[(GD['MeanCimg']==t*2),'CntDist']\n",
    "            \n",
    "            fulldata = np.append(fulldata,data[j].values)\n",
    "            grouping = np.append(grouping,np.ones(len(data[j]))*j)\n",
    "\n",
    "            bp = ax1.boxplot(data[j], positions = [cnt], patch_artist = True, widths = [0.7],\n",
    "                        boxprops=boxprops, capprops =plotprops,\n",
    "                        showfliers = False,whiskerprops=plotprops,medianprops =plotprops)\n",
    "            cnt = cnt+1\n",
    "            \n",
    "            cap[j] = bp['caps'][1].get_ydata(orig=True)[0]\n",
    "        \n",
    "        sns.swarmplot(x=grouping,y=fulldata,color = 'lightgray', size=2, ax = ax1)\n",
    "        ax1.set_xlim(left=-0.7,right=cnt-0.3)\n",
    "        ax1.set_xticklabels(Expname)\n",
    "        \n",
    "        step = np.max(cap)*0.125\n",
    "        fullstep = 0\n",
    "        hmax = np.max(cap)\n",
    "        \n",
    "        for i in range(len(GDs)-1):\n",
    "            for j in range(i+1,len(GDs)):\n",
    "\n",
    "                fullstep = plotSig(ax1,hmax,step,fullstep,data[i],data[j],i,j)\n"
   ]
  },
  {
   "cell_type": "markdown",
   "metadata": {},
   "source": [
    "### Compute and plot ranksum stats"
   ]
  },
  {
   "cell_type": "code",
   "execution_count": null,
   "metadata": {},
   "outputs": [],
   "source": [
    "def plotSig(ax,hmax,step,fullstep,data1,data2,pos1,pos2):\n",
    "    \n",
    "    s,p = ranksums(data1,data2)\n",
    "                        \n",
    "#     if pos2 == pos1+1: \n",
    "#         h = np.median([np.median(data1),np.median(data2)])\n",
    "#         ax.plot([pos1+0.2, pos2-0.2], [h ,h], 'w-',zorder=0)\n",
    "#         ax.text((pos1+pos2)/2,h+0.2*step,'p = ' + str(round(p*1000)/1000), ha='center',fontsize='small')\n",
    "#         ax.set_ylim(top=hmax+fullstep+step)\n",
    "            \n",
    "#     else:       \n",
    "    h = hmax\n",
    "    fullstep += step\n",
    "    ax.plot([pos1, pos2], [h+fullstep ,h+fullstep], 'w-',zorder=0)\n",
    "    ax.text((pos1+pos2)/2,h+fullstep+0.2*step,'p = ' + str(round(p*1000)/1000), ha='center',fontsize='small')\n",
    "    ax.set_ylim(top=h+fullstep+step)\n",
    "\n",
    "    return(fullstep)"
   ]
  },
  {
   "cell_type": "markdown",
   "metadata": {},
   "source": [
    "## Enter data and run"
   ]
  },
  {
   "cell_type": "markdown",
   "metadata": {},
   "source": [
    "### Data details"
   ]
  },
  {
   "cell_type": "code",
   "execution_count": null,
   "metadata": {
    "code_folding": []
   },
   "outputs": [],
   "source": [
    "%run D:/Users/laplaud/Desktop/PostDoc/Code/JupyterNB/ExperimentList.py"
   ]
  },
  {
   "cell_type": "markdown",
   "metadata": {},
   "source": [
    "### Loading data "
   ]
  },
  {
   "cell_type": "code",
   "execution_count": null,
   "metadata": {
    "code_folding": []
   },
   "outputs": [],
   "source": [
    "\n",
    "## Experience Degas V6 Stade1 du 24/01/2022 (Growth only, Ct1 & Ct2)\n",
    "\n",
    "ContourData220124_Ct1 = pd.read_csv(P220124_Ct1 + '\\\\ContourData220124_Ct1_ParamAligned.csv', index_col = 'Ind')\n",
    "GlobalData220124_Ct1 = pd.read_csv(P220124_Ct1 + '\\\\GlobalData220124_Ct1_ParamAligned.csv', index_col = 'Ind') \n",
    "Fitdata220124_Ct1 = pd.read_csv(P220124_Ct1 + '\\\\GlobalData220124_Ct1_AreaContFit.csv', index_col = 'Ind')\n",
    "Tstarts220124_Ct1 = Fitdata220124_Ct1.loc[Fitdata220124_Ct1['Img']==0,'tdebShift']\n",
    "StackList220124_Ct1 = np.unique(GlobalData220124_Ct1.index)\n",
    "\n",
    "\n",
    "ContourData220124_Ct2 = pd.read_csv(P220124_Ct2 + '\\\\ContourData220124_Ct2_ParamAligned.csv', index_col = 'Ind')\n",
    "GlobalData220124_Ct2 = pd.read_csv(P220124_Ct2 + '\\\\GlobalData220124_Ct2_ParamAligned.csv', index_col = 'Ind')  \n",
    "Fitdata220124_Ct2 = pd.read_csv(P220124_Ct2 + '\\\\GlobalData220124_Ct2_AreaContFit.csv', index_col = 'Ind')\n",
    "Tstarts220124_Ct2 = Fitdata220124_Ct2.loc[Fitdata220124_Ct2['Img']==0,'tdebShift']\n",
    "StackList220124_Ct2 = np.unique(Fitdata220124_Ct2.index)\n",
    "\n",
    "\n",
    "## Experience Degas V6 Stade1 du 14/02/2022 (Growth + OC, Ct1 & Ct2)\n",
    "\n",
    "# Growth\n",
    "ContourData220214_Ct1 = pd.read_csv(P220214_Ct1 + '\\\\ContourData220214_Ct1_ParamAligned.csv', index_col = 'Ind')\n",
    "GlobalData220214_Ct1 = pd.read_csv(P220214_Ct1 + '\\\\GlobalData220214_Ct1_ParamAligned.csv', index_col = 'Ind') \n",
    "Fitdata220214_Ct1 = pd.read_csv(P220214_Ct1 + '\\\\GlobalData220214_Ct1_AreaContFit.csv', index_col = 'Ind')\n",
    "Tstarts220214_Ct1 = Fitdata220214_Ct1.loc[Fitdata220214_Ct1['Img']==0,'tdebShift']\n",
    "StackList220214_Ct2 = np.unique(Fitdata220214_Ct1.index)\n",
    "\n",
    "ContourData220214_Ct2 = pd.read_csv(P220214_Ct2 + '\\\\ContourData220214_Ct2_ParamAligned.csv', index_col = 'Ind')\n",
    "GlobalData220214_Ct2 = pd.read_csv(P220214_Ct2 + '\\\\GlobalData220214_Ct2_ParamAligned.csv', index_col = 'Ind') \n",
    "Fitdata220214_Ct2 = pd.read_csv(P220214_Ct2 + '\\\\GlobalData220214_Ct2_AreaContFit.csv', index_col = 'Ind')\n",
    "Tstarts220214_Ct2 = Fitdata220214_Ct2.loc[Fitdata220214_Ct2['Img']==0,'tdebShift']\n",
    "StackList220214_Ct2 = np.unique(Fitdata220214_Ct2.index)\n",
    "\n",
    "# # Osmotic Chocs\n",
    "# ContourData220214_Ct1_Osmo = pd.read_csv(P220214_Ct1_Osmo + '\\\\ContourData220214_Ct1_Osmo_ParamAligned.csv', index_col = 'Ind')\n",
    "# GlobalData220214_Ct1_Osmo = pd.read_csv(P220214_Ct1_Osmo + '\\\\GlobalData220214_Ct1_Osmo_ParamAligned.csv', index_col = 'Ind') \n",
    "\n",
    "# ContourData220214_Ct2_Osmo = pd.read_csv(P220214_Ct2 + '\\\\ContourData220214_Ct2_Osmo_ParamAligned.csv', index_col = 'Ind')\n",
    "# GlobalData220214_Ct2_Osmo = pd.read_csv(P220214_Ct2_Osmo + '\\\\GlobalData220214_Ct2_Osmo_ParamAligned.csv', index_col = 'Ind')  \n",
    "\n",
    "\n",
    "\n",
    "print('Parametrised contours loaded. \\n')\n"
   ]
  },
  {
   "cell_type": "markdown",
   "metadata": {},
   "source": [
    "### Compute contour characteristics"
   ]
  },
  {
   "cell_type": "markdown",
   "metadata": {},
   "source": [
    "#### Mean contours"
   ]
  },
  {
   "cell_type": "code",
   "execution_count": null,
   "metadata": {
    "code_folding": [],
    "scrolled": false
   },
   "outputs": [],
   "source": [
    "## Experience Degas V6 Stade1 du 24/01/2022 (Growth only, Ct1 & Ct2)\n",
    "MeanCD220124_Ct1,MeanGD220124_Ct1 =  computeMeanContourTime(ContourData220124_Ct1,\n",
    "                                                            GlobalData220124_Ct1,Tstarts220124_Ct1)\n",
    "MeanGD220124_Ct1.to_csv(P220124_Ct1 + '\\\\GlobalData220124_Ct1_MeanC.csv',index_label = 'Ind')\n",
    "MeanCD220124_Ct1.to_csv(P220124_Ct1 + '\\\\ContourData220124_Ct1_MeanC.csv',index_label = 'Ind')\n",
    "GlobalData220124_Ct1.to_csv(P220124_Ct1 + '\\\\GlobalData220124_Ct1_ParamAligned.csv',index_label = 'Ind')\n",
    "ContourData220124_Ct1.to_csv(P220124_Ct1 + '\\\\ContourData220124_Ct1_ParamAligned.csv',index_label = 'Ind')\n",
    "\n",
    "MeanCD220124_Ct2,MeanGD220124_Ct2 =  computeMeanContourTime(ContourData220124_Ct2, \n",
    "                                                            GlobalData220124_Ct2,Tstarts220124_Ct2)\n",
    "MeanGD220124_Ct2.to_csv(P220124_Ct2 + '\\\\GlobalData220124_Ct2_MeanC.csv',index_label = 'Ind')\n",
    "MeanCD220124_Ct2.to_csv(P220124_Ct2 + '\\\\ContourData220124_Ct2_MeanC.csv',index_label = 'Ind')\n",
    "GlobalData220124_Ct2.to_csv(P220124_Ct2 + '\\\\GlobalData220124_Ct2_ParamAligned.csv',index_label = 'Ind')\n",
    "ContourData220124_Ct2.to_csv(P220124_Ct2 + '\\\\ContourData220124_Ct2_ParamAligned.csv',index_label = 'Ind')\n",
    "\n",
    "\n",
    "## Experience Degas V6 Stade1 du 14/02/2022 (Growth + OC, Ct1 & Ct2)\n",
    "\n",
    "MeanCD220214_Ct1,MeanGD220214_Ct1 =  computeMeanContourTime(ContourData220214_Ct1,\n",
    "                                                            GlobalData220214_Ct1,Tstarts220214_Ct1)\n",
    "MeanGD220214_Ct1.to_csv(P220214_Ct1 + '\\\\GlobalData220214_Ct1_MeanC.csv',index_label = 'Ind')\n",
    "MeanCD220214_Ct1.to_csv(P220214_Ct1 + '\\\\ContourData220214_Ct1_MeanC.csv',index_label = 'Ind')\n",
    "GlobalData220214_Ct1.to_csv(P220214_Ct1 + '\\\\GlobalData220214_Ct1_ParamAligned.csv',index_label = 'Ind')\n",
    "ContourData220214_Ct1.to_csv(P220214_Ct1 + '\\\\ContourData220214_Ct1_ParamAligned.csv',index_label = 'Ind')\n",
    "\n",
    "MeanCD220214_Ct2,MeanGD220214_Ct2 =  computeMeanContourTime(ContourData220214_Ct2, \n",
    "                                                            GlobalData220214_Ct2,Tstarts220214_Ct2)\n",
    "MeanGD220214_Ct2.to_csv(P220214_Ct2 + '\\\\GlobalData220214_Ct2_MeanC.csv',index_label = 'Ind')\n",
    "MeanCD220214_Ct2.to_csv(P220214_Ct2 + '\\\\ContourData220214_Ct2_MeanC.csv',index_label = 'Ind')\n",
    "GlobalData220214_Ct2.to_csv(P220214_Ct2 + '\\\\GlobalData220214_Ct2_ParamAligned.csv',index_label = 'Ind')\n",
    "ContourData220214_Ct2.to_csv(P220214_Ct2 + '\\\\ContourData220214_Ct2_ParamAligned.csv',index_label = 'Ind')\n"
   ]
  },
  {
   "cell_type": "markdown",
   "metadata": {},
   "source": [
    "#### Distance to mean contour + plots"
   ]
  },
  {
   "cell_type": "code",
   "execution_count": null,
   "metadata": {
    "scrolled": true
   },
   "outputs": [],
   "source": [
    "## Experience Degas V6 Stade1 du 24/01/2022 (Growth only, Ct1 & Ct2)\n",
    "\n",
    "DistToMean(PFig,ContourData220124_Ct1,GlobalData220124_Ct1,MeanCD220124_Ct1,'220124_Ct1',\n",
    "          doPlots = True, showPlots = False)\n",
    "GlobalData220124_Ct1.to_csv(P220124_Ct1 + '\\\\GlobalData220124_Ct1_ParamAligned.csv',index_label = 'Ind')\n",
    "\n",
    "DistToMean(PFig,ContourData220124_Ct2,GlobalData220124_Ct2,MeanCD220124_Ct2,'220124_Ct2',\n",
    "          doPlots = True, showPlots = False)\n",
    "GlobalData220124_Ct2.to_csv(P220124_Ct2 + '\\\\GlobalData220124_Ct2_ParamAligned.csv',index_label = 'Ind')\n",
    "\n",
    "## Experience Degas V6 Stade1 du 14/02/2022 (Growth + OC, Ct1 & Ct2)\n",
    "\n",
    "DistToMean(PFig,ContourData220214_Ct1,GlobalData220214_Ct1,MeanCD220214_Ct1,'220214_Ct1',\n",
    "          doPlots = True, showPlots = False)\n",
    "GlobalData220214_Ct1.to_csv(P220214_Ct1 + '\\\\GlobalData220214_Ct1_ParamAligned.csv',index_label = 'Ind')\n",
    "\n",
    "DistToMean(PFig,ContourData220214_Ct2,GlobalData220214_Ct2,MeanCD220214_Ct2,'220214_Ct2',\n",
    "          doPlots = True, showPlots = False)\n",
    "GlobalData220214_Ct2.to_csv(P220214_Ct2 + '\\\\GlobalData220214_Ct2_ParamAligned.csv',index_label = 'Ind')"
   ]
  },
  {
   "cell_type": "markdown",
   "metadata": {},
   "source": [
    "### Plot results"
   ]
  },
  {
   "cell_type": "markdown",
   "metadata": {},
   "source": [
    "#### Colors definition"
   ]
  },
  {
   "cell_type": "code",
   "execution_count": null,
   "metadata": {},
   "outputs": [],
   "source": [
    "# Colors\n",
    "\n",
    "LightGreen = [0.5, 1, 0.3]\n",
    "Green = [0.3, 0.7, 0.2]\n",
    "DarkGreen = [0.1, 0.4, 0.1]\n",
    "PastelGreen = [0.5, 1, 0.8]\n",
    "DarkPastelGreen = [0.2, 0.6, 0.5]\n",
    "\n",
    "Pink = [1, 0.3, 0.5]\n",
    "Red = [0.8, 0.2, 0.2]\n",
    "DarkRed = [0.6, 0.1, 0.2]\n",
    "\n",
    "LightBlue = [0.3, 0.5, 1]\n",
    "Blue = [0.2, 0.3, 0.7]\n",
    "DarkBlue = [0.1, 0.1, 0.4]\n",
    "\n",
    "DarkPurple = [0.4, 0, 0.3]\n",
    "Purple = [0.55, 0, 0.45]\n",
    "LightPurple = [0.8, 0, 0.7]\n",
    "\n",
    "Yellow = [0.8, 0.8, 0.2]\n",
    "DarkYellow = [0.5, 0.5, 0.2]\n"
   ]
  },
  {
   "cell_type": "markdown",
   "metadata": {},
   "source": [
    "#### Load quantifications"
   ]
  },
  {
   "cell_type": "code",
   "execution_count": null,
   "metadata": {
    "tags": []
   },
   "outputs": [],
   "source": []
  },
  {
   "cell_type": "markdown",
   "metadata": {
    "tags": []
   },
   "source": [
    "#### Plots individual contours in time"
   ]
  },
  {
   "cell_type": "code",
   "execution_count": null,
   "metadata": {
    "scrolled": true
   },
   "outputs": [],
   "source": [
    "# ## Experience Degas V6 Stade1 du 24/01/2022 (Growth only, Ct1 & Ct2)\n",
    "# plotIndiContours(PFig, StackList220124_Ct1,ContourData220124_Ct1, '220124_Ct1', showplots=True)\n",
    "\n",
    "# plotIndiContours(PFig,['meanC'],MeanCD220124_Ct1, '220124_Ct1', showplots=True)\n",
    "\n",
    "# plotIndiContours(PFig, StackList220124_Ct2,ContourData220124_Ct2, '220124_Ct2', showplots=True)\n",
    "\n",
    "# plotIndiContours(PFig,['meanC'],MeanCD220124_Ct2, '220124_Ct2', showplots=True)\n",
    "\n",
    "## Experience Degas V6 Stade1 du 14/02/2022 (Growth only, Ct1 & Ct2)\n",
    "# plotIndiContours(PFig, StackList220214_Ct1,ContourData220214_Ct1, '220214_Ct1', showplots=True)\n",
    "\n",
    "# plotIndiContours(PFig,['meanC'],MeanCD220214_Ct1, '220214_Ct1', showplots=True)\n",
    "\n",
    "# plotIndiContours(PFig, StackList220214_Ct2,ContourData220214_Ct2, '220214_Ct2', showplots=True)\n",
    "\n",
    "# plotIndiContours(PFig,['meanC'],MeanCD220214_Ct2, '220214_Ct2', showplots=True)"
   ]
  },
  {
   "cell_type": "markdown",
   "metadata": {},
   "source": [
    "#### Plot distances to mean contour"
   ]
  },
  {
   "cell_type": "code",
   "execution_count": null,
   "metadata": {},
   "outputs": [],
   "source": [
    "### Load mean contour data\n",
    "\n",
    "MeanGD220124_Ct1 = pd.read_csv(P220124_Ct1 + '\\\\GlobalData220124_Ct1_MeanC.csv', index_col = 'Ind')\n",
    "MeanGD220124_Ct2 = pd.read_csv(P220124_Ct2 + '\\\\GlobalData220124_Ct2_MeanC.csv', index_col = 'Ind')\n",
    "\n",
    "MeanGD220214_Ct1 = pd.read_csv(P220214_Ct1 + '\\\\GlobalData220214_Ct1_MeanC.csv', index_col = 'Ind')\n",
    "MeanGD220214_Ct2 = pd.read_csv(P220214_Ct2 + '\\\\GlobalData220214_Ct2_MeanC.csv', index_col = 'Ind')"
   ]
  },
  {
   "cell_type": "code",
   "execution_count": null,
   "metadata": {
    "scrolled": true
   },
   "outputs": [],
   "source": [
    "### Plots\n",
    "plotMeanDist(PFig,[GlobalData220124_Ct1,GlobalData220124_Ct2],\n",
    "             ['220124_Ct1','220124_Ct2'],[LightPurple, DarkPurple],[0,5,10,20])\n",
    "\n",
    "plotMeanDist(PFig,[GlobalData220214_Ct1,GlobalData220214_Ct2],\n",
    "             ['220214_Ct1','220214_Ct2'],[LightBlue, DarkBlue],[0,5,10,20])"
   ]
  },
  {
   "cell_type": "markdown",
   "metadata": {},
   "source": [
    "## Test Zone"
   ]
  },
  {
   "cell_type": "code",
   "execution_count": null,
   "metadata": {},
   "outputs": [],
   "source": []
  }
 ],
 "metadata": {
  "kernelspec": {
   "display_name": "Python 3",
   "language": "python",
   "name": "python3"
  },
  "language_info": {
   "codemirror_mode": {
    "name": "ipython",
    "version": 3
   },
   "file_extension": ".py",
   "mimetype": "text/x-python",
   "name": "python",
   "nbconvert_exporter": "python",
   "pygments_lexer": "ipython3",
   "version": "3.8.5"
  },
  "toc": {
   "base_numbering": 1,
   "nav_menu": {},
   "number_sections": true,
   "sideBar": true,
   "skip_h1_title": true,
   "title_cell": "Table of Contents",
   "title_sidebar": "Contents",
   "toc_cell": false,
   "toc_position": {
    "height": "821.65px",
    "left": "472px",
    "top": "102px",
    "width": "352px"
   },
   "toc_section_display": true,
   "toc_window_display": true
  }
 },
 "nbformat": 4,
 "nbformat_minor": 4
}
