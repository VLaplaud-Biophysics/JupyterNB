{
 "cells": [
  {
   "cell_type": "markdown",
   "metadata": {},
   "source": [
    "# Computation of shape contour and area during growth of propagules.\n"
   ]
  },
  {
   "cell_type": "markdown",
   "metadata": {},
   "source": [
    "##  Documentation and Imports\n",
    "\n",
    "\n",
    "Created on 27-05-2021\n",
    "\n",
    "Author: Valentin Laplaud\n",
    "\n",
    "This code aims to compute the shape of propagules growing in microfluidic chips. It detects gemmae contours using binarization, and saves the data of the contour position on the image, as well as the area and geometrical center position of each gemmae. \n",
    "\n",
    "A second part fits the evolution of gemmae in time with a delayed exponential."
   ]
  },
  {
   "cell_type": "code",
   "execution_count": 3,
   "metadata": {
    "init_cell": true
   },
   "outputs": [],
   "source": [
    "## Clean up before script start \n",
    "\n",
    "for element in dir():\n",
    "\n",
    "    if element[0:1] != \"_\":\n",
    "\n",
    "        del globals()[element]\n",
    "\n",
    "import gc\n",
    "gc.collect()\n",
    "\n",
    "# plotting stuff in jupyter\n",
    "import matplotlib as mpl\n",
    "mpl.use('TkAgg')\n",
    "%matplotlib inline\n",
    "\n",
    "COLOR = 'white'\n",
    "COLOR2 = 'black'\n",
    "\n",
    "mpl.rcParams['text.color'] = COLOR\n",
    "mpl.rcParams['axes.labelcolor'] = COLOR\n",
    "mpl.rcParams['xtick.color'] = COLOR\n",
    "mpl.rcParams['ytick.color'] = COLOR\n",
    "mpl.rcParams['axes.edgecolor'] = COLOR\n",
    "\n",
    "mpl.rcParams[\"figure.facecolor\"] = COLOR2\n",
    "mpl.rcParams[\"axes.facecolor\"] = COLOR2\n",
    "mpl.rcParams[\"savefig.facecolor\"] = COLOR2\n",
    "mpl.rcParams['axes.facecolor'] = COLOR2\n",
    "\n",
    "\n",
    "# to hide known warnings\n",
    "import warnings\n",
    "warnings.filterwarnings(\"ignore\")\n",
    "\n",
    "# my functions\n",
    "import sys\n",
    "sys.path.append('../PythonFunctions/')\n",
    "import VallapFunc as vf\n",
    "from Main import BinarizeAndFitArea, BinarizeAndFitOsChoc\n",
    "import numpy as np"
   ]
  },
  {
   "cell_type": "markdown",
   "metadata": {},
   "source": [
    "## Fetch data details"
   ]
  },
  {
   "cell_type": "code",
   "execution_count": 4,
   "metadata": {
    "init_cell": true
   },
   "outputs": [
    {
     "name": "stdout",
     "output_type": "stream",
     "text": [
      "Data choice made.\n"
     ]
    }
   ],
   "source": [
    "%run D:/Users/laplaud/Desktop/PostDoc/Code/JupyterNB/ExperimentList.py"
   ]
  },
  {
   "cell_type": "markdown",
   "metadata": {},
   "source": [
    "## Run analysis"
   ]
  },
  {
   "cell_type": "markdown",
   "metadata": {
    "heading_collapsed": true
   },
   "source": [
    "### Flux controls V5 (03/27-09-2021)"
   ]
  },
  {
   "cell_type": "code",
   "execution_count": 5,
   "metadata": {
    "hidden": true,
    "scrolled": false
   },
   "outputs": [],
   "source": [
    "# BinarizeAndFitArea('210903_1mlh',StackList210903_1,P210903_1,Scale210903,FPH210903,Delay210903,0.98,'F',\n",
    "#                    debug = False, debugAll = False, HSVrange =[(30, 30, 70),(60, 120,220)])\n",
    "\n",
    "# BinarizeAndFitArea('210903_500ulh',StackList210903_5,P210903_5,Scale210903,FPH210903,Delay210903,0.98,'F',\n",
    "#                    debug = False, debugAll = False, HSVrange =[(30, 30, 70),(60, 120,220)])\n",
    "\n",
    "\n",
    "\n",
    "# BinarizeAndFitArea('210927_1mlh',StackList210927_1,P210927_1,Scale210927,FPH210927,Delay210927,0.98,'F',\n",
    "#                    debug = False, debugAll = False, HSVrange =[(30, 30, 70),(60, 120,220)])\n",
    "\n",
    "# BinarizeAndFitArea('210927_500ulh',StackList210927_5,P210927_5,Scale210927,FPH210927,Delay210927,0.98,'F',\n",
    "#                    debug = False, debugAll = False, HSVrange =[(30, 30, 70),(60, 120,220)])"
   ]
  },
  {
   "cell_type": "markdown",
   "metadata": {
    "heading_collapsed": true
   },
   "source": [
    "### System control DV6 (22-10-2021)"
   ]
  },
  {
   "cell_type": "code",
   "execution_count": 6,
   "metadata": {
    "hidden": true,
    "scrolled": true
   },
   "outputs": [],
   "source": [
    "# BinarizeAndFitArea('211022_Ct1',StackList211022_Ct1,P211022_Ct1,Scale211022,FPH211022,Delay211022,0.98,'F',\n",
    "#                    debug = False, debugAll = False, HSVrange =[(30, 30, 70),(60, 120,220)])\n",
    "\n",
    "# BinarizeAndFitArea('211022_Ct2',StackList211022_Ct2,P211022_Ct2,Scale211022,FPH211022,Delay211022,0.98,'F',\n",
    "#                    debug = False, debugAll = False, HSVrange =[(30, 30, 70),(60, 120,220)])"
   ]
  },
  {
   "cell_type": "markdown",
   "metadata": {
    "heading_collapsed": true
   },
   "source": [
    "### Degas & BSA controls DV6 (05-11-2021, 22-12-2021)"
   ]
  },
  {
   "cell_type": "code",
   "execution_count": 7,
   "metadata": {
    "hidden": true,
    "scrolled": false
   },
   "outputs": [],
   "source": [
    "# BinarizeAndFitArea('211105_Deg_Bsa',StackList211105_Deg_Bsa,P211105_Deg_Bsa,Scale211105,FPH211105,Delay211105,0.98,'F',\n",
    "#                    debug = False, debugAll = False, HSVrange =[(30, 20, 70),(60, 120,220)])\n",
    "\n",
    "# BinarizeAndFitArea('211105_Degas',StackList211105_Degas,P211105_Degas,Scale211105,FPH211105,Delay211105,0.98,'F',\n",
    "#                    debug = False, debugAll = False, HSVrange =[(30, 20, 70),(60, 120,220)])\n",
    "\n",
    "\n",
    "\n",
    "# BinarizeAndFitArea('211222_Deg_Bsa',StackList211222_Deg_Bsa,P211222_Deg_Bsa,Scale211222,FPH211222,Delay211222,0.98,'F',\n",
    "#                    debug = False, debugAll = False, HSVrange =[(30, 30, 70),(60, 120,220)])\n",
    "\n",
    "# BinarizeAndFitArea('211222_Degas',StackList211222_Degas,P211222_Degas,Scale211222,FPH211222,Delay211222,0.98,'F',\n",
    "#                    debug = False, debugAll = False, HSVrange =[(30, 30, 70),(60, 120,220)])"
   ]
  },
  {
   "cell_type": "markdown",
   "metadata": {
    "heading_collapsed": true
   },
   "source": [
    "### Stade comparison DV6 (07/12/14-01-2022)"
   ]
  },
  {
   "cell_type": "code",
   "execution_count": 8,
   "metadata": {
    "hidden": true,
    "scrolled": true
   },
   "outputs": [],
   "source": [
    "# BinarizeAndFitArea('220107_S1',StackList220107_S1,P220107_S1,Scale220107,FPH220107,Delay220107,0.98,'F',\n",
    "#                    debug = False, debugAll = False, HSVrange =[(25, 30, 70),(60, 120,220)])\n",
    "\n",
    "# BinarizeAndFitArea('220107_S3',StackList220107_S3,P220107_S3,Scale220107,FPH220107,Delay220107,0.98,'F',\n",
    "#                    debug = False, debugAll = False, HSVrange =[(25, 30, 70),(60, 120,220)])\n",
    "\n",
    "\n",
    "\n",
    "# BinarizeAndFitArea('220112_S1',StackList220112_S1,P220112_S1,Scale220112,FPH220112,Delay220112,0.98,'F',\n",
    "#                    debug = False, debugAll = False, HSVrange =[(20, 30, 70),(60, 120,220)])\n",
    "\n",
    "# BinarizeAndFitArea('220112_S3',StackList220112_S3,P220112_S3,Scale220112,FPH220112,Delay220112,0.98,'F',\n",
    "#                    debug = False, debugAll = False, HSVrange =[(20, 30, 70),(60, 120,220)])\n",
    "\n",
    "\n",
    "\n",
    "# BinarizeAndFitArea('220114_S1',StackList220114_S1,P220114_S1,Scale220114,FPH220114,Delay220114,0.98,'F',\n",
    "#                    debug = False, debugAll = False, HSVrange =[(25, 25, 70),(60, 120,220)])\n",
    "\n",
    "# BinarizeAndFitArea('220114_S3',StackList220114_S3,P220114_S3,Scale220114,FPH220114,Delay220114,0.98,'F',\n",
    "#                    debug = False, debugAll = False, HSVrange =[(25, 25, 70),(60, 120,220)])"
   ]
  },
  {
   "cell_type": "markdown",
   "metadata": {
    "heading_collapsed": true
   },
   "source": [
    "### System controls with Stade1 & degas DV6 (24-01-2022,14-02-2022)"
   ]
  },
  {
   "cell_type": "code",
   "execution_count": 9,
   "metadata": {
    "hidden": true,
    "scrolled": true
   },
   "outputs": [],
   "source": [
    "fw = 15\n",
    "\n",
    "# BinarizeAndFitArea('220124_Ct1',StackList220124_Ct1,P220124_Ct1,Scale220124,FPH220124,Delay220124,0.98,'F',\n",
    "#                    debug = False, debugAll = False, HSVrange =[(15, 17, 60),(70, 140,220)],fitwindow=fw)\n",
    "\n",
    "# BinarizeAndFitArea('220124_Ct2',StackList220124_Ct2,P220124_Ct2,Scale220124,FPH220124,Delay220124,0.98,'F',\n",
    "#                    debug = False, debugAll = False, HSVrange =[(15, 17, 60),(70, 140,220)],fitwindow=fw)\n",
    "\n",
    "# BinarizeAndFitArea('220214_Ct1',StackList220214_Ct1,P220214_Ct1,Scale220214,FPH220214,Delay220214,0.98,'F',\n",
    "#                    debug = False, debugAll = False, debuglist = [0,1,2,3,4,10,20,30],HSVrange =[(15, 17, 60),(70, 140,220)],fitwindow=fw)\n",
    "\n",
    "# BinarizeAndFitArea('220214_Ct2',StackList220214_Ct2,P220214_Ct2,Scale220214,FPH220214,Delay220214,0.98,'F',\n",
    "#                    debug = False, debugAll = False, HSVrange =[(15, 17, 60),(70, 140,220)],fitwindow=fw)"
   ]
  },
  {
   "cell_type": "markdown",
   "metadata": {
    "heading_collapsed": true
   },
   "source": [
    "### Osmotic choc after 14-02-2022 "
   ]
  },
  {
   "cell_type": "code",
   "execution_count": 10,
   "metadata": {
    "hidden": true,
    "scrolled": false
   },
   "outputs": [],
   "source": [
    "# BinarizeAndFitOsChoc('220214_Ct1_Osmo',StackList220214_Ct1_Osmo,P220214_Ct1_Osmo,Scale220214_Osmo,FPH220214_Osmo,0.98,'F',\n",
    "#                    showHist = False, debug = False, HSVrange =[(15, 30, 60),(70, 140,220)],FitIntervalComp = [0,25],\n",
    "#                      FitIntervalRel = [23,60])\n",
    "\n",
    "# BinarizeAndFitOsChoc('220214_Ct2_Osmo',StackList220214_Ct2_Osmo,P220214_Ct2_Osmo,Scale220214_Osmo,FPH220214_Osmo,0.98,'F',\n",
    "#                    showHist = False, debug = False, HSVrange =[(15, 30, 60),(70, 140,220)],FitIntervalComp = [0,25],\n",
    "#                      FitIntervalRel = [23,60])\n",
    "  "
   ]
  },
  {
   "cell_type": "markdown",
   "metadata": {},
   "source": [
    "### Manitol 100mM (01-03-2022) + OC"
   ]
  },
  {
   "cell_type": "code",
   "execution_count": 11,
   "metadata": {
    "scrolled": false
   },
   "outputs": [],
   "source": [
    "# BinarizeAndFitArea('220301_Ct',StackList220301_Ct,P220301_Ct,Scale220301,FPH220301,Delay220301,0.98,'F',\n",
    "#                    debug = False, debugAll = False, debuglist = [0], HSVrange =[(15, 17, 60),(70, 140,220)],fitwindow=15)\n",
    "# BinarizeAndFitOsChoc('220301_Ct_Osmo',StackList220301_Ct_Osmo,P220301_Ct_Osmo,Scale220301_Osmo,FPH220301_Osmo,0.98,'F',\n",
    "#                    showHist = False, debug = False, debuglist = [0], HSVrange =[(15, 17, 60),(70, 140,220)],\n",
    "#                      FitIntervalComp = [0,25],FitIntervalRel = [23,60])\n",
    "\n",
    "\n",
    "\n",
    "# BinarizeAndFitArea('220301_M100',StackList220301_M100,P220301_M100,Scale220301,FPH220301,Delay220301,0.98,'F',\n",
    "#                    debug = False, debugAll = False, debuglist = [0], HSVrange =[(15, 17, 60),(70, 140,220)],fitwindow=15)\n",
    "# BinarizeAndFitOsChoc('220301_M100_Osmo',StackList220301_M100_Osmo,P220301_M100_Osmo,Scale220301_Osmo,FPH220301_Osmo,0.98,'F',\n",
    "#                    showHist = False, debug = False, debuglist = [0], HSVrange =[(15, 17, 60),(70, 140,220)],\n",
    "#                      FitIntervalComp = [0,25],FitIntervalRel = [23,60])"
   ]
  },
  {
   "cell_type": "markdown",
   "metadata": {},
   "source": [
    "### Natalia's ABA experiments (22-07-2022)"
   ]
  },
  {
   "cell_type": "code",
   "execution_count": 12,
   "metadata": {
    "scrolled": false
   },
   "outputs": [],
   "source": [
    "\n",
    "# BinarizeAndFitArea('220722_Ct',StackList220722_Ct,P220722_Ct,Scale220722,FPH220722,Delay220722,0.98,'F',\n",
    "#                    debug = True, debugAll = False, debuglist = [1, 20, 50], HSVrange =[(20, 25, 40),(70, 150,160)],fitwindow=15)\n",
    "\n",
    "# BinarizeAndFitArea('220722_ABA',StackList220722_ABA,P220722_ABA,Scale220722,FPH220722,Delay220722,0.98,'F',\n",
    "#                    debug = True, debugAll = False, debuglist = [0], HSVrange =[(20, 25, 40),(70, 150,160)],fitwindow=15)\n",
    "\n"
   ]
  },
  {
   "cell_type": "markdown",
   "metadata": {},
   "source": [
    "### DV7 Controls + Choc hyper/hypo (27-07-22)"
   ]
  },
  {
   "cell_type": "code",
   "execution_count": 15,
   "metadata": {
    "scrolled": false
   },
   "outputs": [
    {
     "name": "stdout",
     "output_type": "stream",
     "text": [
      "\n",
      "\n",
      "\n",
      "220727_Hypo_Osmo\n",
      "\n",
      "\n",
      "Sorting data.\n",
      "Kept 42/47PPGs (89.36%)\n",
      "Kept 41/42PPGs (97.62%)\n",
      "Fitting curve for : PPG1 \n",
      "Fitting curve for : PPG2 \n",
      "Fitting curve for : PPG3 \n",
      "Fitting curve for : PPG4 \n",
      "Fitting curve for : PPG6 \n",
      "Fitting curve for : PPG7 \n",
      "Fitting curve for : PPG8 \n",
      "Fitting curve for : PPG9 \n",
      "Fitting curve for : PPG10\n",
      "Fitting curve for : PPG11\n",
      "Fitting curve for : PPG14\n",
      "Fitting curve for : PPG15\n",
      "Fitting curve for : PPG17\n",
      "Fitting curve for : PPG18\n",
      "Fitting curve for : PPG19\n",
      "Fitting curve for : PPG20\n",
      "Fitting curve for : PPG21\n",
      "Fitting curve for : PPG22\n",
      "Fitting curve for : PPG23\n",
      "Fitting curve for : PPG24\n",
      "Fitting curve for : PPG25\n",
      "Fitting curve for : PPG26\n",
      "Fitting curve for : PPG30\n",
      "Fitting curve for : PPG32\n",
      "Fitting curve for : PPG33\n",
      "Fitting curve for : PPG34\n",
      "Fitting curve for : PPG35\n",
      "Fitting curve for : PPG37\n",
      "Fitting curve for : PPG38\n",
      "Fitting curve for : PPG39\n",
      "Fitting curve for : PPG40\n",
      "Fitting curve for : PPG41\n",
      "Fitting curve for : PPG42\n",
      "Fitting curve for : PPG44\n",
      "Fitting curve for : PPG45\n",
      "Fitting curve for : PPG46\n",
      "Fitting curve for : PPG47\n",
      "Fitting curve for : PPG48\n",
      "Fitting curve for : PPG49\n",
      "Fitting curve for : PPG50\n",
      "Fitting curve for : PPG51\n",
      "Fitting curve for : PPGA \n",
      "Analyzing : 220727_Hypo_Osmo\n",
      "Analyzing : 220727_Hypo_Osmo\n"
     ]
    }
   ],
   "source": [
    "# BinarizeAndFitArea('220727_Hyper',StackList220727_Hyper,P220727_Hyper,Scale220727,FPH220727,Delay220722,0.98,'CF',\n",
    "#                    debug = True, debugAll = False, debuglist = np.arange(0,61), HSVrange =[(15, 25, 40),(70, 150,160)],fitwindow=15)\n",
    "\n",
    "# BinarizeAndFitArea('220727_Hypo',StackList220727_Hypo,P220727_Hypo,Scale220727,FPH220727,Delay220722,0.98,'F',\n",
    "#                    debug = False, debugAll =False, debuglist = [0], HSVrange =[(20, 25, 40),(70, 150,190)],fitwindow=15)\n",
    "\n",
    "\n",
    "\n",
    "# BinarizeAndFitOsChoc('220727_Hyper_Osmo',StackList220727_Hyper_Osmo,P220727_Hyper_Osmo,Scale220727,FPH220727,0.98,'BCF',\n",
    "#                    debug = True, debugAll = False, debuglist = [0], HSVrange =[(20, 25, 40),(70, 150,160)],FitIntervalComp = [0,25],\n",
    "#                      FitIntervalRel = [23,60])\n",
    "\n",
    "# BinarizeAndFitOsChoc('220727_Hypo_Osmo',StackList220727_Hypo_Osmo,P220727_Hypo_Osmo,Scale220727,FPH220727,0.98,'F',\n",
    "#                    debug = False, showHist = False, debuglist = [0], HSVrange =[(20, 20, 40),(70, 160,180)],FitIntervalComp = [0,25],\n",
    "#                      FitIntervalRel = [0,25])"
   ]
  },
  {
   "cell_type": "markdown",
   "metadata": {},
   "source": [
    "## Test Zone"
   ]
  },
  {
   "cell_type": "code",
   "execution_count": 14,
   "metadata": {
    "scrolled": false
   },
   "outputs": [],
   "source": [
    "# %run D:/Users/laplaud/Desktop/PostDoc/Code/JupyterNB/PropaguleAnalysis/2_AreaAnalysis.ipynb"
   ]
  }
 ],
 "metadata": {
  "celltoolbar": "Initialization Cell",
  "kernelspec": {
   "display_name": "Python 3",
   "language": "python",
   "name": "python3"
  },
  "language_info": {
   "codemirror_mode": {
    "name": "ipython",
    "version": 3
   },
   "file_extension": ".py",
   "mimetype": "text/x-python",
   "name": "python",
   "nbconvert_exporter": "python",
   "pygments_lexer": "ipython3",
   "version": "3.8.5"
  },
  "toc": {
   "base_numbering": 1,
   "nav_menu": {},
   "number_sections": true,
   "sideBar": true,
   "skip_h1_title": true,
   "title_cell": "Table of Contents",
   "title_sidebar": "Contents",
   "toc_cell": false,
   "toc_position": {
    "height": "750px",
    "left": "30px",
    "top": "290px",
    "width": "299px"
   },
   "toc_section_display": true,
   "toc_window_display": true
  }
 },
 "nbformat": 4,
 "nbformat_minor": 4
}
