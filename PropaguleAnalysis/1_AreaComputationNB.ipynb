{
 "cells": [
  {
   "cell_type": "markdown",
   "metadata": {},
   "source": [
    "# Computation of shape contour and area during growth of propagules.\n"
   ]
  },
  {
   "cell_type": "markdown",
   "metadata": {},
   "source": [
    "##  Documentation and Imports\n",
    "\n",
    "\n",
    "Created on 27-05-2021\n",
    "\n",
    "Author: Valentin Laplaud\n",
    "\n",
    "This code aims to compute the shape of propagules growing in microfluidic chips. It detects gemmae contours using binarization, and saves the data of the contour position on the image, as well as the area and geometrical center position of each gemmae. \n",
    "\n",
    "A second part fits the evolution of gemmae in time with a delayed exponential."
   ]
  },
  {
   "cell_type": "code",
   "execution_count": null,
   "metadata": {
    "init_cell": true
   },
   "outputs": [],
   "source": [
    "## Clean up before script start \n",
    "\n",
    "for element in dir():\n",
    "\n",
    "    if element[0:1] != \"_\":\n",
    "\n",
    "        del globals()[element]\n",
    "\n",
    "import gc\n",
    "gc.collect()\n",
    "\n",
    "# plotting stuff\n",
    "import matplotlib as mpl\n",
    "mpl.use('TkAgg')\n",
    "%matplotlib inline\n",
    "\n",
    "COLOR = 'white'\n",
    "COLOR2 = 'black'\n",
    "\n",
    "mpl.rcParams['text.color'] = COLOR\n",
    "mpl.rcParams['axes.labelcolor'] = COLOR\n",
    "mpl.rcParams['xtick.color'] = COLOR\n",
    "mpl.rcParams['ytick.color'] = COLOR\n",
    "mpl.rcParams['axes.edgecolor'] = COLOR\n",
    "\n",
    "mpl.rcParams[\"figure.facecolor\"] = COLOR2\n",
    "mpl.rcParams[\"axes.facecolor\"] = COLOR2\n",
    "mpl.rcParams[\"savefig.facecolor\"] = COLOR2\n",
    "mpl.rcParams['axes.facecolor'] = COLOR2\n",
    "\n",
    "#Default colors\n",
    "import matplotlib.pyplot as plt\n",
    "from cycler import cycler\n",
    "colorcycle = [plt.get_cmap('gist_rainbow')(1. * i/30) for i in range(30)]\n",
    "mpl.rcParams['axes.prop_cycle'] = cycler(color=colorcycle)\n",
    "\n",
    "# numbers handling\n",
    "import numpy as np\n",
    "import pandas as pd\n",
    "from itertools import compress\n",
    "\n",
    "# signal processing \n",
    "from scipy.signal import savgol_filter, correlate, correlation_lags\n",
    "from scipy.interpolate import interp1d\n",
    "from scipy.spatial import ConvexHull\n",
    "from scipy.optimize import curve_fit, least_squares\n",
    "\n",
    "# images handling\n",
    "from skimage import io\n",
    "from skimage.filters import threshold_otsu, threshold_mean, gaussian, laplace, sobel\n",
    "from skimage.measure import label, regionprops, regionprops_table\n",
    "from skimage.util import invert\n",
    "from skimage.morphology import binary_opening, binary_closing, remove_small_holes,binary_erosion, binary_dilation\n",
    "from skimage.color import rgb2gray, rgb2hsv\n",
    "from skimage.segmentation import active_contour\n",
    "import cv2 as cv\n",
    "\n",
    "# to hide known warnings\n",
    "import warnings\n",
    "warnings.filterwarnings(\"ignore\")\n",
    "\n",
    "# General system functions\n",
    "import os\n",
    "import shutil\n",
    "import sys\n",
    "\n",
    "import time\n",
    "\n",
    "# my functions\n",
    "sys.path.append('../')\n",
    "import VallapFunc as vf\n"
   ]
  },
  {
   "cell_type": "markdown",
   "metadata": {},
   "source": [
    "##  Define analysis functions\n",
    "\n"
   ]
  },
  {
   "cell_type": "markdown",
   "metadata": {},
   "source": [
    "###  Image binarization\n",
    "Binarize images from experiment and save them in a new folder to be used for contour and area detection."
   ]
  },
  {
   "cell_type": "markdown",
   "metadata": {},
   "source": [
    "#### Circular mask\n",
    "create the circle for opening and closing operation"
   ]
  },
  {
   "cell_type": "code",
   "execution_count": null,
   "metadata": {
    "code_folding": [
     0
    ],
    "init_cell": true
   },
   "outputs": [],
   "source": [
    "def create_circular_mask(h, w, center=None, radius=None):\n",
    "\n",
    "\n",
    "    if center is None: # use the middle of the image\n",
    "        center = (int(w/2), int(h/2))\n",
    "    if radius is None: # use the smallest distance between the center and image walls\n",
    "        radius = min(center[0], center[1], w-center[0], h-center[1])\n",
    "\n",
    "    Y, X = np.ogrid[:h, :w]\n",
    "    dist_from_center = np.sqrt((X - center[0])**2 + (Y-center[1])**2)\n",
    "\n",
    "    mask = dist_from_center <= radius\n",
    "    return mask"
   ]
  },
  {
   "cell_type": "markdown",
   "metadata": {},
   "source": [
    "#### Binarize\n",
    "Transform the RGB image into a HSV image, and then thresholds it using the two boundary triplets HSVmin and HSVmax. Binary morphological operations are then applied to clean up he shape."
   ]
  },
  {
   "cell_type": "code",
   "execution_count": null,
   "metadata": {
    "code_folding": [
     0
    ],
    "init_cell": true
   },
   "outputs": [],
   "source": [
    "def Binarize(Img, Scale, HSVmin, HSVmax, **kwargs):\n",
    "\n",
    "    #init and read kwargs\n",
    "    DebugPlots = False\n",
    "    \n",
    "    for key, value in kwargs.items(): \n",
    "        if key == 'debug':\n",
    "            DebugPlots = value\n",
    "            \n",
    "\n",
    "    \n",
    "    hsv = cv.cvtColor(Img, cv.COLOR_RGB2HSV)\n",
    "\n",
    "    ## mask of green \n",
    "    mask = cv.inRange(hsv, HSVmin, HSVmax)\n",
    "\n",
    "    ## slice the green\n",
    "    BWimg = mask>0\n",
    "    \n",
    "    size = np.round(5*Scale) # 10µm in pixels\n",
    "    \n",
    "    selem = create_circular_mask(size,size) # create circular element for opening\n",
    "\n",
    "    DilBWimg = binary_closing(BWimg,selem) # image opening\n",
    "    \n",
    "    \n",
    "    FilledBWimg = remove_small_holes(DilBWimg, area_threshold=1e3) # fills dark regions\n",
    "    \n",
    "    Size = np.round(30*Scale) # 40µm in pixels\n",
    "    \n",
    "    Selem = create_circular_mask(Size,Size) # create circular element for opening\n",
    "\n",
    "    FinalImg = binary_opening(FilledBWimg,Selem) # image opening\n",
    "    \n",
    "    if DebugPlots:        \n",
    "       \n",
    "        DilBWonImg = np.multiply(Img,np.repeat(DilBWimg[:, :, np.newaxis], 3, axis=2))\n",
    "        FinalOnImg = np.multiply(Img,np.repeat(FinalImg[:, :, np.newaxis], 3, axis=2))\n",
    "        BWonImgInv =np.multiply(Img,np.repeat(np.invert(BWimg[:, :, np.newaxis]), 3, axis=2))\n",
    "        DilBWonImgInv = np.multiply(Img,np.repeat(np.invert(DilBWimg[:, :, np.newaxis]), 3, axis=2))\n",
    "        FinalOnImgInv = np.multiply(Img,np.repeat(np.invert(FinalImg[:, :, np.newaxis]), 3, axis=2))\n",
    "        \n",
    "        fig, [[ax0, ax1, ax2], [ax3, ax4, ax5]] = plt.subplots(nrows = 2, ncols=3,dpi = 500)    \n",
    "        fig.suptitle('Debug plots for \"Binarize\" function :')\n",
    "        ax0.imshow(Img, cmap='gray')\n",
    "        ax0.set_title(\"Original & Thresholded images\")\n",
    "        ax0.axis('off')\n",
    "        ax3.imshow(BWonImgInv, cmap='gray')\n",
    "        ax3.axis('off')\n",
    "        ax1.imshow(DilBWonImgInv, cmap='gray')\n",
    "        ax1.set_title(\"Closed image\")\n",
    "        ax1.axis('off') \n",
    "        ax2.imshow(FinalOnImgInv, cmap='gray')\n",
    "        ax2.set_title(\"Final mask\")\n",
    "        ax2.axis('off')        \n",
    "        fig.tight_layout()\n",
    "        ax4.imshow(DilBWonImg, cmap='gray')\n",
    "        ax4.axis('off') \n",
    "        ax5.imshow(FinalOnImg, cmap='gray')\n",
    "        ax5.axis('off')        \n",
    "        fig.tight_layout()\n",
    "        plt.show()\n",
    "        \n",
    "        print('')\n",
    "    \n",
    "    return(FinalImg)"
   ]
  },
  {
   "cell_type": "markdown",
   "metadata": {},
   "source": [
    "#### Binarize stack\n",
    " Wrapper function that applies binarization to stacks of images and saves them. Adjusts the white balance before binarization."
   ]
  },
  {
   "cell_type": "code",
   "execution_count": null,
   "metadata": {
    "code_folding": [],
    "init_cell": true
   },
   "outputs": [],
   "source": [
    "def BinarizeStack(StackList, P, Scale, **kwargs):\n",
    "\n",
    "    #init and read kwargs\n",
    "    DebugPlots = False                            \n",
    "    HSVmin = (30, 20, 70)\n",
    "    HSVmax = (60, 120,220)\n",
    "    ImgList = [0, 20, 40]\n",
    "    \n",
    "    for key, value in kwargs.items(): \n",
    "        if key == 'debug':\n",
    "            DebugPlots = value \n",
    "        elif key == 'debuglist':\n",
    "            ImgList = value \n",
    "        elif key == 'HSVrange':\n",
    "            HSVmin = value[0]\n",
    "            HSVmax = value[1]\n",
    "        else:\n",
    "            print('Unknown key : ' + key + '. Kwarg ignored.')\n",
    "            \n",
    "    if os.path.exists(P + '\\\\WhiteBalanceData.csv'):\n",
    "        WBsaving = pd.read_csv(P + '\\\\WhiteBalanceData.csv', index_col = 'Ind')\n",
    "    else:                \n",
    "        WBsaving = pd.DataFrame(data=None,columns=['lum','whiteR','whiteG','whiteB']) \n",
    "    \n",
    "    \n",
    "    for s in StackList:\n",
    "\n",
    "        print('Processing ' + s + ' :')    \n",
    "\n",
    "        RGBstack = io.imread(P + '\\\\' + s + '.tif') # get the tiff stack\n",
    "        Bckp_RGBstack = io.imread(P + '\\\\' + s + '.tif') # get the tiff stack for comparison\n",
    "        Index = WBsaving.index\n",
    "        \n",
    "        #### adjusting white balance\n",
    "        if WBsaving.loc[(WBsaving.index == s)].empty:            \n",
    "            # ask user to click\n",
    "            %matplotlib qt\n",
    "            plt.figure(dpi=250)\n",
    "            plt.title('Select an area for white balance')\n",
    "            plt.imshow(RGBstack[0])\n",
    "            pts = np.asarray(plt.ginput(-1, timeout=-1))\n",
    "            plt.close()\n",
    "            %matplotlib inline\n",
    "            \n",
    "            \n",
    "            # indicices of convex hull of set of points pts\n",
    "            CH = ConvexHull(pts)\n",
    "\n",
    "            # polygon defining the hull\n",
    "            p = mpl.path.Path(pts[CH.vertices,:])\n",
    "\n",
    "            # set of image pixels coordinates\n",
    "            xx,yy = np.meshgrid(np.linspace(0,np.shape(RGBstack[0])[1],num=np.shape(RGBstack[0])[1],endpoint=False),\n",
    "                                np.linspace(0,np.shape(RGBstack[0])[0],num=np.shape(RGBstack[0])[0],endpoint=False))\n",
    "\n",
    "            # mask for the part of the image to use for white balance\n",
    "            mask = np.reshape(p.contains_points(np.hstack((xx.flatten()[:,np.newaxis],yy.flatten()[:,np.newaxis]))),\n",
    "                              np.shape(RGBstack[0])[0:2])\n",
    "\n",
    "            # balancing white\n",
    "            whiteR = RGBstack[0][mask,0].mean()\n",
    "            whiteG = RGBstack[0][mask,1].mean()\n",
    "            whiteB = RGBstack[0][mask,2].mean()\n",
    "            lum = (whiteR + whiteG + whiteB)/3\n",
    "            \n",
    "            # Save the points that were clicked\n",
    "            data = {'lum': lum,\n",
    "                    'whiteR': whiteR,\n",
    "                    'whiteG': whiteG,\n",
    "                    'whiteB': whiteB}           \n",
    "            \n",
    "            WBsaving = WBsaving.append(pd.DataFrame(data=data,index = [s]))\n",
    "            \n",
    "            WBsaving.to_csv(P + '\\\\WhiteBalanceData.csv',index_label = 'Ind')\n",
    "            \n",
    "        else:\n",
    "            whiteR = WBsaving.loc[s,'whiteR']\n",
    "            whiteG = WBsaving.loc[s,'whiteG']\n",
    "            whiteB = WBsaving.loc[s,'whiteB']\n",
    "            lum = WBsaving.loc[s,'lum']\n",
    "\n",
    "        RGBstack[:,:,:,0] = RGBstack[:,:,:,0] * lum / whiteR\n",
    "        RGBstack[:,:,:,1] = RGBstack[:,:,:,1] * lum / whiteG\n",
    "        RGBstack[:,:,:,2] = RGBstack[:,:,:,2] * lum / whiteB\n",
    "\n",
    "\n",
    "        # Savefolders for Sat and Binary stacks\n",
    "        if not os.path.exists(P + '\\\\Processed'):\n",
    "            os.mkdir(P + '\\\\Processed') # create global folder        \n",
    "\n",
    "        if not os.path.exists(P + '\\\\Processed\\\\' + s + '_Binarized'):\n",
    "            # shutil.rmtree(P + '\\\\' + s + '_Binarized') # remove folder and contents\n",
    "            os.mkdir(P + '\\\\Processed\\\\' + s + '_Binarized') # create binarize image folder\n",
    "            isBin = False\n",
    "        else:\n",
    "            isBin = True\n",
    "\n",
    "        if DebugPlots:            \n",
    "            imglist = ImgList\n",
    "        else:\n",
    "            imglist = range(len(RGBstack))  \n",
    "            #imglist = range(49)  \n",
    "        \n",
    "        for i in imglist:\n",
    "            \n",
    "            Img = RGBstack[i]\n",
    "            \n",
    "            if DebugPlots&0:\n",
    "                fig,ax = plt.subplots(ncols=2,dpi=200)\n",
    "                ax[0].set_title('Original image')\n",
    "                ax[0].imshow(Bckp_RGBstack[i])\n",
    "                ax[1].set_title('White balanced image')\n",
    "                ax[1].imshow(Img)\n",
    "                \n",
    "                plt.show()\n",
    "            \n",
    "            # Binarization      \n",
    "            if not isBin:\n",
    "                print('Binarization of image ' + str(i+1) + '/' + str(len(RGBstack)).ljust(15), flush=True, end = '\\r')\n",
    "                \n",
    "                BinImg = Binarize(Img,Scale,HSVmin,HSVmax,debug =DebugPlots)\n",
    "                \n",
    "                io.imsave(P + '\\\\Processed\\\\' + s + '_Binarized\\\\' + str(i) + '.tif', np.uint8(BinImg*255), plugin='tifffile')\n",
    "            \n",
    "            else:\n",
    "                if os.path.exists(P + '\\\\Processed\\\\' + s + '_Binarized\\\\' + str(i) + '.tif'):\n",
    "                    BinImg = io.imread(P + '\\\\Processed\\\\' + s + '_Binarized\\\\' + str(i) + '.tif') \n",
    "                else:\n",
    "                    print('Binarization of image ' + str(i+1) + '/' + str(len(RGBstack)).ljust(15), flush=True, end = '\\r')\n",
    "                    \n",
    "                    BinImg = Binarize(Img,Scale,HSVmin,HSVmax,debug =DebugPlots)\n",
    "                    io.imsave(P + '\\\\Processed\\\\' + s + '_Binarized\\\\' + str(i) + '.tif', np.uint8(BinImg*255), plugin='tifffile')\n",
    "            \n",
    "\n",
    "\n",
    "        print('Binarization done for ' + str(len(RGBstack)) + '/' + str(len(RGBstack)) + ' images'.ljust(20), flush=True)\n",
    "\n",
    "        \n",
    "    return"
   ]
  },
  {
   "cell_type": "markdown",
   "metadata": {},
   "source": [
    "### Contour and area computation"
   ]
  },
  {
   "cell_type": "markdown",
   "metadata": {},
   "source": [
    "#### Edge and area of binary object\n",
    "Identify the largest object on binary image, isolates it, and saves it area and contour. Also compute the geometrical center using a distance transform.\n",
    "\n",
    "\n",
    "Open cv findcontour is based on : Satoshi Suzuki and others. Topological structural analysis of digitized binary images by border following. Computer Vision, Graphics, and Image Processing, 30(1):32–46, 1985."
   ]
  },
  {
   "cell_type": "code",
   "execution_count": null,
   "metadata": {
    "code_folding": [],
    "init_cell": true
   },
   "outputs": [],
   "source": [
    "def getEdgeAndArea(BinImg,Scale):\n",
    "    \n",
    "    # Find largest contour \n",
    "    cnts, _ = cv.findContours(BinImg, cv.RETR_EXTERNAL, cv.CHAIN_APPROX_NONE)\n",
    "    cnt = max(cnts, key=cv.contourArea)\n",
    "\n",
    "    Area = cv.contourArea(cnt)*Scale**2\n",
    "\n",
    "    # Create image with only largest object\n",
    "    out = np.zeros(BinImg.shape, np.uint8)\n",
    "    cv.drawContours(out, [cnt], -1, 255, cv.FILLED)\n",
    "    BinImg = cv.bitwise_and(BinImg, out)\n",
    "\n",
    "    # Computing center of propagule using euclidian distance transform\n",
    "    dist = cv.distanceTransform(BinImg, cv.DIST_L2, 3)\n",
    "    regions = regionprops(BinImg,dist)\n",
    "    center = regions[0].weighted_centroid\n",
    "\n",
    "    # Getting contour \n",
    "    Ycnt = cnt[:,0,0]\n",
    "    Xcnt = cnt[:,0,1] \n",
    "    \n",
    "    ContourCumLength = np.concatenate(([0],np.cumsum(np.sqrt(np.square(np.diff(Xcnt))+np.square(np.diff(Ycnt))))))\n",
    "    ContourLength = ContourCumLength[-1]\n",
    "        \n",
    "    ContourInterp = interp1d(ContourCumLength,[Xcnt,Ycnt], fill_value='extrapolate')            \n",
    "\n",
    "    npts = 1000\n",
    "\n",
    "    # create contour with regular points\n",
    "    deltaS = ContourLength/npts\n",
    "    ContourRegCumLength = np.linspace(0,npts,npts+1)*deltaS\n",
    "\n",
    "    RegXcnt,RegYcnt = ContourInterp(ContourRegCumLength)\n",
    "    \n",
    "    # Edge coordinate relative to the center\n",
    "    relativeIndicesX = RegXcnt-center[0]\n",
    "    relativeIndicesY = RegYcnt-center[1]      \n",
    "    \n",
    "    Xlength = relativeIndicesX.max() - relativeIndicesX.min()\n",
    "    Ylength = relativeIndicesY.max() - relativeIndicesY.min()\n",
    "    \n",
    "    return(relativeIndicesX,relativeIndicesY,center,Area,Xlength,Ylength)"
   ]
  },
  {
   "cell_type": "markdown",
   "metadata": {},
   "source": [
    "#### Analyze stack\n",
    "Wrapper function to analyze stack and pool contour and area data into a panda dataframe."
   ]
  },
  {
   "cell_type": "code",
   "execution_count": null,
   "metadata": {
    "code_folding": [],
    "init_cell": true
   },
   "outputs": [],
   "source": [
    "def GetContours(StackList,P, Scale, FPH, **kwargs):\n",
    "      \n",
    "    # init and read kwargs    \n",
    "    DebugPlots = False\n",
    "    \n",
    "    for key, value in kwargs.items(): \n",
    "        if key == 'debug':\n",
    "            DebugPlots = value\n",
    "        else:\n",
    "            print('Unknown key : ' + key + '. Kwarg ignored.')\n",
    "    \n",
    "    # initialize dataframme\n",
    "    GD = pd.DataFrame(data=None,columns=['Img','Time (min)','Area','Xcenter','Ycenter']) \n",
    "\n",
    "    CD = pd.DataFrame(data=None,columns=['Img','Ximg','Yimg']) \n",
    "\n",
    "    \n",
    "    for s in StackList:\n",
    "\n",
    "        print('Processing ' + s + ' :')   \n",
    "        \n",
    "        # Loading video\n",
    "        RGBstack = io.imread(P + '\\\\' + s + '.tif') # get the tiff stack\n",
    "        \n",
    "        n = len(RGBstack)\n",
    "\n",
    "        jet_colorcycle = [plt.get_cmap('jet')(1. * i/n) for i in range(n)]\n",
    "        mpl.rcParams['axes.prop_cycle'] = cycler(color=jet_colorcycle)        \n",
    "\n",
    "\n",
    "        for i in range(n):\n",
    "            \n",
    "            print('Measuring contour for image ' + str(i+1) + '/' + str(len(RGBstack)).ljust(10), flush=True, end = '\\r')\n",
    "                        \n",
    "            # Loading binary image\n",
    "            BinImg = io.imread(P + '\\\\Processed\\\\' + s + '_Binarized\\\\' + str(i) + '.tif')\n",
    "\n",
    "            # Computing propagule edge and area from binary image\n",
    "            SortedX,SortedY,center,Area,Xlength,Ylength = getEdgeAndArea(BinImg,Scale) \n",
    "            \n",
    "            # Storing contour data\n",
    "            data = {'Ximg':SortedY+center[1],\n",
    "                        'Yimg':SortedX+center[0],\n",
    "                        'Img':i*np.ones(len(SortedX))} \n",
    "\n",
    "            CD = CD.append(pd.DataFrame(data=data,index = np.repeat(s,len(SortedX))))  # adding to global dataframe\n",
    "            \n",
    "            data2 = {'Area':Area/1000000, # In mm²\n",
    "                     'Xlength':Xlength,\n",
    "                     'Ylength':Ylength,\n",
    "                        'Xcenter':center[1],\n",
    "                        'Ycenter':center[0],\n",
    "                        'Img':i,\n",
    "                        'Time (min)':i*60/FPH} \n",
    "            \n",
    "            GD = GD.append(pd.DataFrame(data=data2,index = [s])) \n",
    "            \n",
    "            if ((i == 0)|(i == 22)|(i == 24)) & DebugPlots: #((i == 1)|(i == 21)|(i == 41)) &\n",
    "                RGBimg = io.imread(P + '\\\\' + s + '.tif', key = i)\n",
    "\n",
    "                plt.figure(dpi=250,facecolor='white')\n",
    "                plt.title(s)\n",
    "                plt.imshow(RGBimg)\n",
    "                plt.plot(SortedY+center[1],SortedX+center[0],'c',lw = 0.7)\n",
    "                plt.show()\n",
    "                \n",
    "        print('Contours saved.'.ljust(35), flush = True)\n",
    "         \n",
    "    return(CD,GD)"
   ]
  },
  {
   "cell_type": "markdown",
   "metadata": {},
   "source": [
    "### Fit of area curve"
   ]
  },
  {
   "cell_type": "markdown",
   "metadata": {},
   "source": [
    "#### Fit function\n",
    "A function to fit the normalized area evolution curve. An exponential that starts after a delay."
   ]
  },
  {
   "cell_type": "code",
   "execution_count": null,
   "metadata": {
    "init_cell": true
   },
   "outputs": [],
   "source": [
    "def fitFunc(t,T,tdeb,A0): # Exponential growth with a delay\n",
    "    \n",
    "    f = np.multiply(A0,np.exp(np.divide((t-tdeb),T)))\n",
    "        \n",
    "    f[t<tdeb] = A0\n",
    "        \n",
    "    return(f)"
   ]
  },
  {
   "cell_type": "markdown",
   "metadata": {},
   "source": [
    "#### Fitting data\n",
    "Fit the evolution of area in time using a delayed exponential. A first fit is used to determine the approximate value of growth start time. Then the fit is repeated only on data that go until 15h after start time. This is iterrated 3 times to have a convergence of the parameters."
   ]
  },
  {
   "cell_type": "code",
   "execution_count": null,
   "metadata": {
    "code_folding": [],
    "init_cell": true
   },
   "outputs": [],
   "source": [
    "def fitAreaGrowth(StackList,Rows,GD,FPH,Delay, **kwargs):\n",
    "    \n",
    "    DebugPlots = False\n",
    "    \n",
    "    for key, value in kwargs.items(): \n",
    "        if key == 'debug':\n",
    "            DebugPlots = value\n",
    "        else:\n",
    "            print('Unknown key : ' + key + '. Kwarg ignored.')\n",
    "            \n",
    "    for s,row in zip(StackList,Rows):\n",
    "        \n",
    "        print('Fitting area curve for : ' + s.ljust(5), end='\\n')           \n",
    "        \n",
    "        Time = GD.loc[s,'Img'].values.astype(float)/FPH*60 # in minutes\n",
    "        AreaC = GD.loc[s,'Area'].values\n",
    "        \n",
    "        # first fit to determine tdeb\n",
    "        params1, cov1 = curve_fit(f=fitFunc, xdata=Time, ydata=AreaC, p0=[100, 30, AreaC[0]], bounds=(0, np.inf), method='trf', loss='soft_l1')\n",
    "        stdevs1 = np.sqrt(np.diag(cov1))\n",
    "        \n",
    "        R2_1 = np.round(vf.computeR2(AreaC,fitFunc(Time,params1[0],params1[1],params1[2]))*1000)/1000\n",
    "                        \n",
    "        # Second fit, only until 15 hours after the start of growth\n",
    "        fitInterval = Time<(params1[1]+900)\n",
    "        params2, cov2 = curve_fit(f=fitFunc, xdata=Time[fitInterval], ydata=AreaC[fitInterval], p0=params1,\n",
    "                                  bounds=(0, np.inf), method='trf', loss='soft_l1')\n",
    "        \n",
    "        \n",
    "        stdevs2 = np.sqrt(np.diag(cov2))\n",
    "        \n",
    "        R2_2 = np.round(vf.computeR2(AreaC[fitInterval],fitFunc(Time[fitInterval],params2[0],params2[1],params2[2]))*1000)/1000\n",
    "        \n",
    "        # Third fit, only until 15 hours after the start of growth, to confirm second\n",
    "        fitInterval = Time<(params2[1]+900)\n",
    "        params3, cov3 = curve_fit(f=fitFunc, xdata=Time[fitInterval], ydata=AreaC[fitInterval], p0=params2,\n",
    "                                  bounds=(0, np.inf), method='trf', loss='soft_l1')\n",
    "        \n",
    "        \n",
    "        stdevs3 = np.sqrt(np.diag(cov2))\n",
    "        \n",
    "        R2_3 = np.round(vf.computeR2(AreaC[fitInterval],fitFunc(Time[fitInterval],params3[0],params3[1],params3[2]))*1000)/1000\n",
    "        \n",
    "        \n",
    "        # Fourth fit, only until 15 hours after the start of growth, to confirm third\n",
    "        fitInterval = Time<(params3[1]+900)\n",
    "        params4, cov4 = curve_fit(f=fitFunc, xdata=Time[fitInterval], ydata=AreaC[fitInterval], p0=params3,\n",
    "                                  bounds=(0, np.inf), method='trf', loss='soft_l1')\n",
    "        \n",
    "        \n",
    "        stdevs4 = np.sqrt(np.diag(cov2))\n",
    "        \n",
    "        R2_4 = np.round(vf.computeR2(AreaC[fitInterval],fitFunc(Time[fitInterval],params4[0],params4[1],params4[2]))*1000)/1000\n",
    "        \n",
    "        \n",
    "        \n",
    "        fig, [ax1,ax2] = plt.subplots(ncols=2, dpi=300)\n",
    "\n",
    "        ax1.set_title(s + ' - tdeb = ' + str(round(params1[1]*10)/10) + ' ' + u\"\\u00B1\" + str(round(stdevs1[1]*10)/10) + ' min.\\n' +\n",
    "        'T = ' + str(round(params1[0]/60*10)/10)  + ' ' + u\"\\u00B1\" + str(round(stdevs1[0]/60*10)/10) + ' hours.\\nR2 = ' \n",
    "                      + str(R2_1))\n",
    "        ax1.plot(Time,AreaC,'*r',ms=3)\n",
    "        ax1.plot(Time,fitFunc(Time,params1[0],params1[1],params1[2]),'--b')\n",
    "        ax1.set_xlabel('Time (min)')\n",
    "        ax1.set_ylabel('Area')\n",
    "\n",
    "        ax2.set_title(s + ' - tdeb = ' + str(round(params2[1]*10)/10) + ' ' + u\"\\u00B1\" + str(round(stdevs2[1]*10)/10) + ' min.\\n' +\n",
    "        'T = ' + str(round(params2[0]/60*10)/10)  + ' ' + u\"\\u00B1\" + str(round(stdevs2[0]/60*10)/10) + ' hours.\\nR2 = ' \n",
    "                      + str(R2_2))\n",
    "        ax2.plot(Time,AreaC,'*r',ms=3)\n",
    "        ax2.plot(Time[fitInterval],AreaC[fitInterval],'*g',ms=3)\n",
    "        ax2.plot(Time,fitFunc(Time,params4[0],params4[1],params4[2]),'--b',lw=1)\n",
    "        ax2.set_xlabel('Time (min)')\n",
    "        ax2.set_ylabel('Area')\n",
    "\n",
    "        fig.tight_layout()\n",
    "        \n",
    "        if DebugPlots:\n",
    "            plt.show()\n",
    "        else:\n",
    "            plt.close(fig)\n",
    "        \n",
    "\n",
    "        GD.loc[(GD.index == s) & (GD['Img'] == 0), 'tdeb_full'] = params1[1] + Delay\n",
    "        GD.loc[(GD.index == s) & (GD['Img'] == 0), 'tdebShift_full'] = np.argmin(np.abs(Time-params1[1])) # img shift for alignement on tdeb\n",
    "        GD.loc[(GD.index == s) & (GD['Img'] == 0), 'Tau_full'] = params1[0]\n",
    "        GD.loc[(GD.index == s) & (GD['Img'] == 0), 'A0fit_full'] = params1[2]\n",
    "        GD.loc[(GD.index == s) & (GD['Img'] == 0), 'STDtdeb_full'] = stdevs1[1]\n",
    "        GD.loc[(GD.index == s) & (GD['Img'] == 0), 'STDTau_full'] = stdevs1[0]\n",
    "        GD.loc[(GD.index == s) & (GD['Img'] == 0), 'fitR2_full'] = R2_1\n",
    "        \n",
    "        GD.loc[(GD.index == s) & (GD['Img'] == 0), 'tdeb_inter1'] = params2[1] + Delay\n",
    "        GD.loc[(GD.index == s) & (GD['Img'] == 0), 'tdebShift_inter1'] = np.argmin(np.abs(Time-params2[1])) # img shift for alignement on tdeb\n",
    "        GD.loc[(GD.index == s) & (GD['Img'] == 0), 'Tau_inter1'] = params2[0]\n",
    "        GD.loc[(GD.index == s) & (GD['Img'] == 0), 'A0fit_inter1'] = params2[2]\n",
    "        GD.loc[(GD.index == s) & (GD['Img'] == 0), 'STDtdeb_inter1'] = stdevs2[1]\n",
    "        GD.loc[(GD.index == s) & (GD['Img'] == 0), 'STDTau_inter1'] = stdevs2[0]\n",
    "        GD.loc[(GD.index == s) & (GD['Img'] == 0), 'fitR2_inter1'] = R2_2\n",
    "        \n",
    "        GD.loc[(GD.index == s) & (GD['Img'] == 0), 'tdeb_inter2'] = params3[1] + Delay\n",
    "        GD.loc[(GD.index == s) & (GD['Img'] == 0), 'tdebShift_inter2'] = np.argmin(np.abs(Time-params3[1])) # img shift for alignement on tdeb\n",
    "        GD.loc[(GD.index == s) & (GD['Img'] == 0), 'Tau_inter2'] = params3[0]\n",
    "        GD.loc[(GD.index == s) & (GD['Img'] == 0), 'A0fit_inter2'] = params3[2]\n",
    "        GD.loc[(GD.index == s) & (GD['Img'] == 0), 'STDtdeb_inter2'] = stdevs3[1]\n",
    "        GD.loc[(GD.index == s) & (GD['Img'] == 0), 'STDTau_interé'] = stdevs3[0]\n",
    "        GD.loc[(GD.index == s) & (GD['Img'] == 0), 'fitR2_inter2'] = R2_3\n",
    "        \n",
    "        GD.loc[(GD.index == s) & (GD['Img'] == 0), 'tdeb'] = params4[1] + Delay\n",
    "        GD.loc[(GD.index == s) & (GD['Img'] == 0), 'tdebShift'] = np.argmin(np.abs(Time-params4[1])) # img shift for alignement on tdeb\n",
    "        GD.loc[(GD.index == s) & (GD['Img'] == 0), 'Tau'] = params4[0]\n",
    "        GD.loc[(GD.index == s) & (GD['Img'] == 0), 'A0fit'] = params4[2]\n",
    "        GD.loc[(GD.index == s) & (GD['Img'] == 0), 'STDtdeb'] = stdevs4[1]\n",
    "        GD.loc[(GD.index == s) & (GD['Img'] == 0), 'STDTau'] = stdevs4[0]\n",
    "        GD.loc[(GD.index == s) & (GD['Img'] == 0), 'fitR2'] = R2_4\n",
    "        \n",
    "        GD.loc[(GD.index == s) & (GD['Img'] == 0), 'ChipRow'] = row\n",
    "        \n",
    "        \n",
    "        ## Additionnal growth fitting (end-10h -> end) for correlation with osmotic chocs\n",
    "        \n",
    "        def expfitf(t,Tau):\n",
    "            return(np.exp(np.divide(t,Tau)))\n",
    "        \n",
    "        params, cov = curve_fit(f=expfitf, xdata=Time[-20:len(Time)], ydata=AreaC[-20:len(Time)]/params4[2], p0=params4[0],\n",
    "                                  bounds=(0, np.inf), method='trf', loss='soft_l1')\n",
    "        \n",
    "        GD.loc[(GD.index == s) & (GD['Img'] == 0), 'Tau10h'] = params[0]\n",
    "        GD.loc[(GD.index == s) & (GD['Img'] == 0), '1/Tau10h'] = 1/params[0]\n",
    "        \n",
    "        params, cov = curve_fit(f=expfitf, xdata=Time[-10:len(Time)], ydata=AreaC[-10:len(Time)]/params4[2], p0=params[0],\n",
    "                                  bounds=(0, np.inf), method='trf', loss='soft_l1')\n",
    "        \n",
    "        GD.loc[(GD.index == s) & (GD['Img'] == 0), 'Tau5h'] = params[0]\n",
    "\n",
    "    \n",
    "    return(GD)"
   ]
  },
  {
   "cell_type": "markdown",
   "metadata": {},
   "source": [
    "#### Selection based on R2\n",
    "Sort data based on the quality of the fit."
   ]
  },
  {
   "cell_type": "code",
   "execution_count": null,
   "metadata": {
    "code_folding": [],
    "init_cell": true
   },
   "outputs": [],
   "source": [
    "def selectR2s(GD, CD, Th, label, **kwargs):\n",
    "    \n",
    "    showHist = False\n",
    "    print('Analyzing : ' + label)\n",
    "    \n",
    "    for key, value in kwargs.items(): \n",
    "        if key == 'showHist':\n",
    "            showHist = value\n",
    "        else:\n",
    "            print('Unknown key : ' + key + '. Kwarg ignored.')\n",
    "    \n",
    "    R2sPos = ~np.isnan(GD['fitR2'].values)\n",
    "    R2s = GD['fitR2'].values[R2sPos]\n",
    "    goodR2s = R2s>=Th\n",
    "    frac = np.round(sum(goodR2s)/len(goodR2s)*1000)/10\n",
    "    \n",
    "    StackList = GD.index[R2sPos].array.to_numpy()\n",
    "    goodList = StackList[goodR2s]\n",
    "    \n",
    "    goodGD = GD.loc[goodList]\n",
    "    goodCD = CD.loc[goodList]\n",
    "    \n",
    "    if showHist:\n",
    "        \n",
    "        \n",
    "        fig, ax = plt.subplots(dpi=300)\n",
    "        ax.set_title(label + '\\n' + str(frac) + '% of data validated based on R2>' + str(Th))\n",
    "        n, bins, patches = ax.hist(R2s, bins = np.arange(np.floor(min(R2s)*10)/10, 1.025, 0.025), color = 'r', rwidth = 0.95)\n",
    "        xl = ax.get_xlim()\n",
    "        yl = ax.get_ylim()\n",
    "        ax.hist(R2s[goodR2s], bins = bins, color = 'g', rwidth = 0.95)\n",
    "        ax.set_xlim(xl)\n",
    "        ax.set_ylim(yl)\n",
    "        \n",
    "        plt.show()\n",
    "        \n",
    "#     print('Validated data : ' + goodList + '\\n\\n' )\n",
    "\n",
    "    return(goodGD, goodCD, R2s, goodList)"
   ]
  },
  {
   "cell_type": "markdown",
   "metadata": {},
   "source": [
    "#### Comparing iterative fits\n",
    "Accessory function to compare initial fit and final fit after iterations."
   ]
  },
  {
   "cell_type": "code",
   "execution_count": null,
   "metadata": {
    "code_folding": [],
    "init_cell": true
   },
   "outputs": [],
   "source": [
    "def compareFit(GD, label):\n",
    "    \n",
    "    ValuesPos = ~np.isnan(GD['tdeb'].values)\n",
    "    \n",
    "    Tdebs_inter1 = GD['tdeb_inter1'].values[ValuesPos]    \n",
    "    Tdebs_inter2 = GD['tdeb_inter2'].values[ValuesPos]\n",
    "    Tdebs = GD['tdeb'].values[ValuesPos]\n",
    "    Tdebs_full = GD['tdeb_full'].values[ValuesPos]\n",
    "    \n",
    "    Taus_inter1 = GD['Tau_inter1'].values[ValuesPos]\n",
    "    Taus_inter2 = GD['Tau_inter2'].values[ValuesPos]\n",
    "    Taus = GD['Tau'].values[ValuesPos]\n",
    "    Taus_full = GD['Tau_full'].values[ValuesPos]\n",
    "    \n",
    "    A0fits_inter1 = GD['A0fit_inter1'].values[ValuesPos]\n",
    "    A0fits_inter2 = GD['A0fit_inter2'].values[ValuesPos]\n",
    "    A0fits = GD['A0fit'].values[ValuesPos]\n",
    "    A0fits_full = GD['A0fit_full'].values[ValuesPos]\n",
    "    \n",
    "    R2s_inter2 = GD['fitR2_inter2'].values[ValuesPos]\n",
    "    R2s_inter1 = GD['fitR2_inter1'].values[ValuesPos]\n",
    "    R2s = GD['fitR2'].values[ValuesPos]\n",
    "    R2s_full = GD['fitR2_full'].values[ValuesPos]\n",
    "    \n",
    "    plotprops = {'color':'g'}\n",
    "    flierprops = dict(marker='d', markerfacecolor='g', markersize=8,\n",
    "                  markeredgecolor='none')\n",
    "    \n",
    "    plotprops_full = {'color':'r'}\n",
    "    flierprops_full = dict(marker='d', markerfacecolor='r', markersize=8,\n",
    "                  markeredgecolor='none')\n",
    "   \n",
    "    \n",
    "    MIN = np.min([Tdebs_full, Tdebs, Tdebs_inter1, Tdebs_inter2])\n",
    "    MAX = np.max([Tdebs_full, Tdebs, Tdebs_inter1, Tdebs_inter2])\n",
    "    \n",
    "    fig11, ax11 = plt.subplots(dpi=200)  \n",
    "    ax11.set_title(label + ' - Tstart (min)')\n",
    "    ax11.plot([MIN,MAX],[MIN,MAX],'-g')\n",
    "    ax11.plot(Tdebs_full,Tdebs_inter1,'ro',ms = 5)\n",
    "    ax11.plot(Tdebs_inter1,Tdebs_inter2,'mo',ms = 4.5)\n",
    "    ax11.plot(Tdebs_inter2,Tdebs,'o',color=np.divide([150, 131, 236],255),ms = 4)\n",
    "    ax11.set_xlabel('Previous fit')\n",
    "    ax11.set_ylabel('Next fit')\n",
    "    ax11.set_xlim(MIN-0.05*MAX,MAX*1.05)\n",
    "    ax11.set_ylim(MIN-0.05*MAX,MAX*1.05)\n",
    "    \n",
    "    \n",
    "    MIN = np.min([Taus_full, Taus, Taus_inter1, Taus_inter2])\n",
    "    MAX = np.max([Taus_full, Taus, Taus_inter1, Taus_inter2])\n",
    "\n",
    "    fig21, ax21 = plt.subplots(dpi=200)  \n",
    "    ax21.set_title(label + ' - Tau growth (hours)')\n",
    "    ax21.plot([MIN,MAX],[MIN,MAX],'-g')\n",
    "    ax21.plot(Taus_full,Taus_inter1,'ro',ms = 5)\n",
    "    ax21.plot(Taus_inter1,Taus_inter2,'mo',ms = 4.5)\n",
    "    ax21.plot(Taus_inter2,Taus,'o',color=np.divide([150, 131, 236],255),ms = 4)\n",
    "    ax21.set_xlabel('Previous fit')\n",
    "    ax21.set_ylabel('Next fit')\n",
    "    ax21.set_xlim(MIN-0.05*MAX,MAX*1.05)\n",
    "    ax21.set_ylim(MIN-0.05*MAX,MAX*1.05)\n",
    "    \n",
    "    \n",
    "    MIN = np.min([A0fits_full, A0fits, A0fits_inter1, A0fits_inter2])\n",
    "    MAX = np.max([A0fits_full, A0fits, A0fits_inter1, A0fits_inter2])\n",
    "\n",
    "    fig31, ax31 = plt.subplots(dpi=200)  \n",
    "    ax31.set_title(label + ' - A0fit (mm²)')\n",
    "    ax31.plot([MIN,MAX],[MIN,MAX],'-g')\n",
    "    ax31.plot(A0fits_full,A0fits_inter1,'ro',ms = 5)\n",
    "    ax31.plot(A0fits_inter1,A0fits_inter2,'mo',ms = 4.5)\n",
    "    ax31.plot(A0fits_inter2,A0fits,'o',color=np.divide([150, 131, 236],255),ms = 4)\n",
    "    ax31.set_xlabel('Previous fit')\n",
    "    ax31.set_ylabel('Next fit')\n",
    "    ax31.set_xlim(MIN-0.05*MAX,MAX*1.05)\n",
    "    ax31.set_ylim(MIN-0.05*MAX,MAX*1.05)\n",
    "    \n",
    "  \n",
    "    \n",
    "    return"
   ]
  },
  {
   "cell_type": "markdown",
   "metadata": {},
   "source": [
    "### Fit of osmotic choc curve"
   ]
  },
  {
   "cell_type": "markdown",
   "metadata": {},
   "source": [
    "#### Curve sorting based on AR change in flux direction"
   ]
  },
  {
   "cell_type": "code",
   "execution_count": null,
   "metadata": {
    "init_cell": true
   },
   "outputs": [],
   "source": [
    "def sortChocs(CD,GD,StackList,ImgStart,ImgEq):\n",
    "\n",
    "    nppg = len(StackList)\n",
    "    GoodStacks = []\n",
    "    AR = []\n",
    "\n",
    "    f1,ax1 = plt.subplots(dpi=250,figsize=(5,3.5))\n",
    "    f2,ax2 = plt.subplots(dpi=250,figsize=(5,3.5))\n",
    "\n",
    "    for s in StackList:  \n",
    "\n",
    "        AR.append(np.abs((GD.loc[s,'Ylength'].values[ImgEq-1]/GD.loc[s,'Xlength'].values[ImgEq-1])/\n",
    "                  (GD.loc[s,'Ylength'].values[ImgStart]/GD.loc[s,'Xlength'].values[ImgStart])-1))\n",
    "\n",
    "    GoodStacks = list(compress(StackList,AR<2*np.quantile(AR,[0.75])))\n",
    "\n",
    "    for s in StackList:\n",
    "        if s in GoodStacks:\n",
    "            ax1.plot(GD.loc[s,'Img'].values[ImgStart:ImgEq]/2,GD.loc[s,'Area'].values[ImgStart:ImgEq]/GD.loc[s,'Area'].values[ImgStart],\n",
    "                     'g-',lw=0.3,zorder=0)\n",
    "            ax2.plot(GD.loc[s,'Img'].values[ImgStart:ImgEq]/2,(GD.loc[s,'Ylength'].values[ImgStart:ImgEq]/GD.loc[s,'Xlength'].values[ImgStart:ImgEq])/\n",
    "                  (GD.loc[s,'Ylength'].values[ImgStart]/GD.loc[s,'Xlength'].values[ImgStart])-1,'g-',zorder=0,lw=0.3)\n",
    "        else:            \n",
    "            ax1.plot(GD.loc[s,'Img'].values[ImgStart:ImgEq]/2,GD.loc[s,'Area'].values[ImgStart:ImgEq]/GD.loc[s,'Area'].values[ImgStart],'r-',\n",
    "                     lw=0.3,zorder=1)\n",
    "            ax2.plot(GD.loc[s,'Img'].values[ImgStart:ImgEq]/2,(GD.loc[s,'Ylength'].values[ImgStart:ImgEq]/GD.loc[s,'Xlength'].values[ImgStart:ImgEq])/\n",
    "                  (GD.loc[s,'Ylength'].values[ImgStart]/GD.loc[s,'Xlength'].values[ImgStart])-1,'r-',lw=0.3,zorder=1)\n",
    "\n",
    "\n",
    "    plt.show()\n",
    "    print('Kept ' + str(len(GoodStacks)) + '/' + str(nppg) + 'PPGs (' + str(np.round(len(GoodStacks)/nppg*10000)/100) + '%)' )\n",
    "\n",
    "    return(CD.loc[GoodStacks],GD.loc[GoodStacks],GoodStacks)"
   ]
  },
  {
   "cell_type": "markdown",
   "metadata": {},
   "source": [
    "#### Fit function"
   ]
  },
  {
   "cell_type": "code",
   "execution_count": null,
   "metadata": {
    "init_cell": true
   },
   "outputs": [],
   "source": [
    "def fitFuncOsmChoc(t,T,A0,Aeq,tdeb): # Exponential decay from initial volume to equilibrium volume\n",
    "    \n",
    "    f = np.multiply((A0-Aeq),np.exp(np.divide(-(t-tdeb),T))) + Aeq\n",
    "        \n",
    "    f[t<tdeb] = A0\n",
    "    \n",
    "    return(f)"
   ]
  },
  {
   "cell_type": "markdown",
   "metadata": {},
   "source": [
    "#### Fitting data"
   ]
  },
  {
   "cell_type": "code",
   "execution_count": null,
   "metadata": {
    "init_cell": true
   },
   "outputs": [],
   "source": [
    "def fitOsmoChoc(StackList,CD,GD,FPH,ImgStart,ImgEq, **kwargs):\n",
    "    \n",
    "    DebugPlots = False\n",
    "    \n",
    "    for key, value in kwargs.items(): \n",
    "        if key == 'debug':\n",
    "            DebugPlots = value\n",
    "        else:\n",
    "            print('Unknown key : ' + key + '. Kwarg ignored.')\n",
    "    \n",
    "    print('Sorting data.')\n",
    "    CD,GD,StackList = sortChocs(CD,GD,StackList,ImgStart,ImgEq)        \n",
    "    \n",
    "    for s in StackList:\n",
    "        \n",
    "        print('Fitting curve for : ' + s.ljust(5), end='\\n')           \n",
    "        \n",
    "        Time = GD.loc[s,'Img'].values.astype(float)/FPH*60 # in minutes\n",
    "        AreaC = GD.loc[s,'Area'].values\n",
    "        \n",
    "        TimeFit = GD.loc[s,'Img'].values.astype(float)[ImgStart:ImgEq]/FPH*60 # in minutes\n",
    "        Time = Time - TimeFit[0]\n",
    "        TimeFit = TimeFit - TimeFit[0]\n",
    "        AreaCFit = GD.loc[s,'Area'].values[ImgStart:ImgEq]\n",
    "        \n",
    "        DenseTime = np.linspace(TimeFit[0],TimeFit[-1],100)\n",
    "        \n",
    "        # first fit to determine tdeb\n",
    "        params, cov = curve_fit(f=fitFuncOsmChoc, xdata=TimeFit, ydata=AreaCFit, p0=[1, AreaCFit[0],AreaCFit[0],0],bounds = (0, np.inf), method='trf',\n",
    "                                loss='soft_l1')\n",
    "        \n",
    "        R2 = np.round(vf.computeR2(AreaCFit,fitFuncOsmChoc(TimeFit,params[0],params[1],params[2],params[3]))*1000)/1000\n",
    "        \n",
    "        \n",
    "        \n",
    "        fig,ax = plt.subplots(dpi=300)\n",
    "        ax.set_title(\"Tau = {0:.2f} - V0 = {1:.2f} - Veq = {2:.2f} - Tstart = {3:.3f} - R2 = {4:.3f}\".format(params[0],params[1],params[2],params[3],R2))\n",
    "        ax.plot(Time,AreaC,'*r',ms=3,label='FullData')\n",
    "        ax.plot(TimeFit,AreaCFit,'*g',ms=3,label='FittedData')\n",
    "        ax.plot(DenseTime,fitFuncOsmChoc(DenseTime,params[0],params[1],params[2],params[3]),'--b',label='SoftL1')\n",
    "        ax.set_xlabel('Time (min)')\n",
    "        ax.set_ylabel('Area (mm²)')\n",
    "\n",
    "\n",
    "        fig.tight_layout()\n",
    "        \n",
    "        if DebugPlots:\n",
    "            plt.show()\n",
    "        else:\n",
    "            plt.close(fig)\n",
    "        \n",
    "        # Physical parameters\n",
    "        DeltaPiOut = 8.314*293*100/1e6 # en MPa, R (gaz parfait) * Temp (K, 20°) * 0.1 (100mM = 100 mol/m3 de choc)\n",
    "        H = 150*1e-6 # µm demi-hauteur du canal\n",
    "        \n",
    "        K = params[1]/(params[1]-params[2])*DeltaPiOut # en MPa\n",
    "        L = H/(params[0]*60*K*1e6) # en m/s/Pa\n",
    "        \n",
    "        GD.loc[(GD.index == s) & (GD['Img'] == 0), 'TauFlux'] = params[0] \n",
    "        GD.loc[(GD.index == s) & (GD['Img'] == 0), 'V0'] = params[1] \n",
    "        GD.loc[(GD.index == s) & (GD['Img'] == 0), 'Veq'] = params[2]   \n",
    "        GD.loc[(GD.index == s) & (GD['Img'] == 0), 'V0-Veq'] = params[1]-params[2]        \n",
    "        GD.loc[(GD.index == s) & (GD['Img'] == 0), 'K'] = K             \n",
    "        GD.loc[(GD.index == s) & (GD['Img'] == 0), '1/K'] = 1/K       \n",
    "        GD.loc[(GD.index == s) & (GD['Img'] == 0), 'L'] = L \n",
    "        GD.loc[(GD.index == s) & (GD['Img'] == 0), '1/L'] = 1/L \n",
    "        \n",
    "        GD.loc[(GD.index == s) & (GD['Img'] == 0), 'fitR2'] = R2\n",
    "    \n",
    "    return(GD)"
   ]
  },
  {
   "cell_type": "markdown",
   "metadata": {},
   "source": [
    "### Wrapper functions"
   ]
  },
  {
   "cell_type": "markdown",
   "metadata": {},
   "source": [
    "#### Area growth "
   ]
  },
  {
   "cell_type": "code",
   "execution_count": null,
   "metadata": {
    "init_cell": true
   },
   "outputs": [],
   "source": [
    "def BinarizeAndFitArea(stringName,StackList,Path,Scale,FPH,Delay,R2Threshold,ToDo, **kwargs):\n",
    "    \n",
    "    showHist = False\n",
    "    DebugPlots = False\n",
    "    HSVrange = [(25, 25, 70),(60, 120,220)]\n",
    "    ImgList = [0, 20, 40]\n",
    "    \n",
    "    for key, value in kwargs.items(): \n",
    "        if key == 'showHist':\n",
    "            showHist = value\n",
    "        elif key == 'debug':\n",
    "            DebugPlots = value\n",
    "        elif key == 'debuglist':\n",
    "            ImgList = value \n",
    "        elif key == 'HSVrange':\n",
    "            HSVrange = value\n",
    "        else:\n",
    "            print('Unknown key : ' + key + '. Kwarg ignored.')\n",
    "    \n",
    "    if ToDo == 'BCF':\n",
    "        DoBin = True\n",
    "        DoCont = True\n",
    "        DoFit = True\n",
    "    elif ToDo == 'B':\n",
    "        DoBin = True\n",
    "        DoCont = False\n",
    "        DoFit = False\n",
    "    elif ToDo == 'CF':\n",
    "        DoBin = False\n",
    "        DoCont = True\n",
    "        DoFit = True\n",
    "    elif ToDo == 'F':\n",
    "        DoBin = False\n",
    "        DoCont = False\n",
    "        DoFit = True\n",
    "    else:\n",
    "        raise NameError('ToDo variable is wrong')\n",
    "    \n",
    "    print('\\n\\n\\n' + stringName + '\\n\\n')\n",
    "    \n",
    "    # Binarization of stacks\n",
    "    if DoBin:\n",
    "        BinarizeStack(StackList, Path, Scale,debug = DebugPlots, HSVrange = HSVrange, debuglist = ImgList)\n",
    "    \n",
    "    if DoCont:\n",
    "                \n",
    "        # Computing contours from binary\n",
    "        CD,GD = GetContours(StackList,Path, Scale,FPH, debug=DebugPlots)\n",
    "\n",
    "        # Saving all contours\n",
    "        GD.to_csv(Path + '\\\\GlobalData' + stringName + '_AreaCont.csv',index_label = 'Ind')\n",
    "        CD.to_csv(Path + '\\\\ContourData' + stringName + '_AreaCont.csv',index_label = 'Ind')\n",
    "\n",
    "    if DoFit:\n",
    "        \n",
    "        GD = pd.read_csv(Path + '\\\\GlobalData' + stringName + '_AreaCont.csv', index_col = 'Ind')\n",
    "        CD = pd.read_csv(Path + '\\\\ContourData' + stringName + '_AreaCont.csv',index_col = 'Ind')\n",
    "        \n",
    "        # Retrieve data on PPG position in chip        \n",
    "        posinchip = pd.read_excel (Path + '\\ChipPositions.xlsx', index_col='Name')        \n",
    "        Rows = posinchip.loc[StackList].values[:,0]\n",
    "        \n",
    "        # Fitting area growth\n",
    "        GD = fitAreaGrowth(StackList,Rows,GD,FPH,Delay, debug = DebugPlots)\n",
    "\n",
    "        # Sorting based on fit quality\n",
    "        GD, CD, R2s, goodList = selectR2s(GD,CD,R2Threshold,stringName, showHist = showHist)\n",
    "\n",
    "        # Fit convergence \n",
    "        compareFit(GD, stringName)\n",
    "        \n",
    "        # Saving sorted contour and fit data\n",
    "        GD.to_csv(Path + '\\\\GlobalData' + stringName + '_AreaContFit.csv',index_label = 'Ind')\n",
    "        CD.to_csv(Path + '\\\\ContourData' + stringName + '_AreaContFit.csv',index_label = 'Ind')\n",
    "    \n",
    "    return"
   ]
  },
  {
   "cell_type": "markdown",
   "metadata": {},
   "source": [
    "#### Osmotic choc"
   ]
  },
  {
   "cell_type": "code",
   "execution_count": null,
   "metadata": {
    "init_cell": true
   },
   "outputs": [],
   "source": [
    "def BinarizeAndFitOsChoc(stringName,StackList,Path,Scale,FPH,R2Threshold,ToDo, **kwargs):\n",
    "    \n",
    "    showHist = False\n",
    "    DebugPlots = False\n",
    "    HSVrange = [(25, 25, 70),(60, 120,220)]\n",
    "    ImgList = [0, 20, 40]\n",
    "    FitInterval = [2,25]\n",
    "    \n",
    "    for key, value in kwargs.items(): \n",
    "        if key == 'showHist':\n",
    "            showHist = value\n",
    "        elif key == 'debug':\n",
    "            DebugPlots = value\n",
    "        elif key == 'debuglist':\n",
    "            ImgList = value \n",
    "        elif key == 'HSVrange':\n",
    "            HSVrange = value\n",
    "        elif key == 'FitInterval':\n",
    "            FitInterval = value\n",
    "        else:\n",
    "            print('Unknown key : ' + key + '. Kwarg ignored.')\n",
    "    \n",
    "    if ToDo == 'BCF':\n",
    "        DoBin = True\n",
    "        DoCont = True\n",
    "        DoFit = True\n",
    "    elif ToDo == 'B':\n",
    "        DoBin = True\n",
    "        DoCont = False\n",
    "        DoFit = False\n",
    "    elif ToDo == 'CF':\n",
    "        DoBin = False\n",
    "        DoCont = True\n",
    "        DoFit = True\n",
    "    elif ToDo == 'F':\n",
    "        DoBin = False\n",
    "        DoCont = False\n",
    "        DoFit = True\n",
    "    else:\n",
    "        raise NameError('ToDo variable is wrong')\n",
    "    \n",
    "    print('\\n\\n\\n' + stringName + '\\n\\n')\n",
    "    \n",
    "    # Binarization of stacks\n",
    "    if DoBin:\n",
    "        BinarizeStack(StackList, Path, Scale,debug = DebugPlots, HSVrange = HSVrange, debuglist = ImgList)\n",
    "    \n",
    "    if DoCont:\n",
    "                \n",
    "        # Computing contours from binary\n",
    "        CD,GD = GetContours(StackList,Path, Scale,FPH, debug=DebugPlots)\n",
    "        \n",
    "        # Saving all contours\n",
    "        GD.to_csv(Path + '\\\\GlobalData' + stringName + '_AreaCont.csv',index_label = 'Ind')\n",
    "        CD.to_csv(Path + '\\\\ContourData' + stringName + '_AreaCont.csv',index_label = 'Ind')\n",
    "        \n",
    "        print('Contour saved')\n",
    "\n",
    "    if DoFit:\n",
    "        \n",
    "        GD = pd.read_csv(Path + '\\\\GlobalData' + stringName + '_AreaCont.csv', index_col = 'Ind')\n",
    "        CD = pd.read_csv(Path + '\\\\ContourData' + stringName + '_AreaCont.csv',index_col = 'Ind')\n",
    "        \n",
    "        GD = fitOsmoChoc(StackList,CD,GD,FPH,FitInterval[0],FitInterval[1],debug = DebugPlots)\n",
    "        \n",
    "        GD, CD, R2s, goodList = selectR2s(GD, CD, R2Threshold, stringName,showHist=showHist)\n",
    "        \n",
    "        # Saving sorted contour and fit data\n",
    "        GD.to_csv(Path + '\\\\GlobalData' + stringName + '_AreaOsmoFit.csv',index_label = 'Ind')\n",
    "        CD.to_csv(Path + '\\\\ContourData' + stringName + '_AreaOsmoFit.csv',index_label = 'Ind')\n",
    "    \n",
    "    return"
   ]
  },
  {
   "cell_type": "markdown",
   "metadata": {},
   "source": [
    "## Enter data and run\n",
    "\n"
   ]
  },
  {
   "cell_type": "markdown",
   "metadata": {},
   "source": [
    "### Data details"
   ]
  },
  {
   "cell_type": "code",
   "execution_count": null,
   "metadata": {
    "init_cell": true
   },
   "outputs": [],
   "source": [
    "%run D:/Users/laplaud/Desktop/PostDoc/Code/JupyterNB/ExperimentList.py"
   ]
  },
  {
   "cell_type": "markdown",
   "metadata": {},
   "source": [
    "### Run"
   ]
  },
  {
   "cell_type": "markdown",
   "metadata": {
    "heading_collapsed": true
   },
   "source": [
    "#### Flux controls V5 (03/27-09-2021)"
   ]
  },
  {
   "cell_type": "code",
   "execution_count": null,
   "metadata": {
    "hidden": true
   },
   "outputs": [],
   "source": [
    "# BinarizeAndFitArea('210903_1mlh',StackList210903_1,P210903_1,Scale210903,FPH210903,Delay210903,0.95,'CF',\n",
    "#                    showHist = True, debug = False, HSVrange =[(30, 30, 70),(60, 120,220)])\n",
    "\n",
    "# BinarizeAndFitArea('210903_500ulh',StackList210903_5,P210903_5,Scale210903,FPH210903,Delay210903,0.95,'CF',\n",
    "#                    showHist = True, debug = False, HSVrange =[(30, 30, 70),(60, 120,220)])\n",
    "\n",
    "\n",
    "\n",
    "# BinarizeAndFitArea('210927_1mlh',StackList210927_1,P210927_1,Scale210927,FPH210927,Delay210927,0.95,'CF',\n",
    "#                    showHist = True, debug = False, HSVrange =[(30, 30, 70),(60, 120,220)])\n",
    "\n",
    "# BinarizeAndFitArea('210927_500ulh',StackList210927_5,P210927_5,Scale210927,FPH210927,Delay210927,0.95,'CF',\n",
    "#                    showHist = True, debug = False, HSVrange =[(30, 30, 70),(60, 120,220)])"
   ]
  },
  {
   "cell_type": "markdown",
   "metadata": {
    "heading_collapsed": true
   },
   "source": [
    "#### Manitol 125mM V5 (14-09-2021)"
   ]
  },
  {
   "cell_type": "code",
   "execution_count": null,
   "metadata": {
    "hidden": true
   },
   "outputs": [],
   "source": [
    "# BinarizeAndFitArea('210914_Ct',StackList210914_Ct,P210914_Ct,Scale210914,FPH210914,Delay210914,0.95,'CF',\n",
    "#                    showHist = True, debug = False, HSVrange =[(30, 30, 70),(60, 120,220)])\n",
    "\n",
    "# BinarizeAndFitArea('210914_M125',StackList210914_M125,P210914_M125,Scale210914,FPH210914,Delay210914,0.95,'CF',\n",
    "#                    showHist = True, debug = False, HSVrange =[(30, 30, 70),(60, 120,220)])"
   ]
  },
  {
   "cell_type": "markdown",
   "metadata": {
    "heading_collapsed": true
   },
   "source": [
    "#### System control DV6 (22-10-2021)"
   ]
  },
  {
   "cell_type": "code",
   "execution_count": null,
   "metadata": {
    "hidden": true
   },
   "outputs": [],
   "source": [
    "# BinarizeAndFitArea('211022_Ct1',StackList211022_Ct1,P211022_Ct1,Scale211022,FPH211022,Delay211022,0.95,'CF',\n",
    "#                    showHist = True, debug = False, HSVrange =[(30, 30, 70),(60, 120,220)])\n",
    "\n",
    "# BinarizeAndFitArea('211022_Ct2',StackList211022_Ct2,P211022_Ct2,Scale211022,FPH211022,Delay211022,0.95,'CF',\n",
    "#                    showHist = True, debug = False, HSVrange =[(30, 30, 70),(60, 120,220)])"
   ]
  },
  {
   "cell_type": "markdown",
   "metadata": {
    "heading_collapsed": true
   },
   "source": [
    "#### Degas & BSA controls DV6 (05-11-2021, 22-12-2021)"
   ]
  },
  {
   "cell_type": "code",
   "execution_count": null,
   "metadata": {
    "hidden": true,
    "scrolled": false
   },
   "outputs": [],
   "source": [
    "# BinarizeAndFitArea('211105_Deg_Bsa',StackList211105_Deg_Bsa,P211105_Deg_Bsa,Scale211105,FPH211105,Delay211105,0.95,'CF',\n",
    "#                    showHist = True, debug = False, HSVrange =[(30, 20, 70),(60, 120,220)])\n",
    "\n",
    "# BinarizeAndFitArea('211105_Degas',StackList211105_Degas,P211105_Degas,Scale211105,FPH211105,Delay211105,0.95,'CF',\n",
    "#                    showHist = True, debug = False, HSVrange =[(30, 20, 70),(60, 120,220)])\n",
    "\n",
    "\n",
    "\n",
    "# BinarizeAndFitArea('211222_Deg_Bsa',StackList211222_Deg_Bsa,P211222_Deg_Bsa,Scale211222,FPH211222,Delay211222,0.95,'CF',\n",
    "#                    showHist = True, debug = False, HSVrange =[(30, 30, 70),(60, 120,220)])\n",
    "\n",
    "# BinarizeAndFitArea('211222_Degas',StackList211222_Degas,P211222_Degas,Scale211222,FPH211222,Delay211222,0.95,'CF',\n",
    "#                    showHist = True, debug = False, HSVrange =[(30, 30, 70),(60, 120,220)])"
   ]
  },
  {
   "cell_type": "markdown",
   "metadata": {
    "heading_collapsed": true
   },
   "source": [
    "#### Stade comparison DV6 (07/12/14-01-2022)"
   ]
  },
  {
   "cell_type": "code",
   "execution_count": null,
   "metadata": {
    "hidden": true,
    "scrolled": true
   },
   "outputs": [],
   "source": [
    "# BinarizeAndFitArea('220107_S1',StackList220107_S1,P220107_S1,Scale220107,FPH220107,Delay220107,0.95,'CF',\n",
    "#                    showHist = True, debug = False, HSVrange =[(25, 30, 70),(60, 120,220)])\n",
    "\n",
    "# BinarizeAndFitArea('220107_S3',StackList220107_S3,P220107_S3,Scale220107,FPH220107,Delay220107,0.95,'CF',\n",
    "#                    showHist = True, debug = False, HSVrange =[(25, 30, 70),(60, 120,220)])\n",
    "\n",
    "\n",
    "\n",
    "# BinarizeAndFitArea('220112_S1',StackList220112_S1,P220112_S1,Scale220112,FPH220112,Delay220112,0.95,'CF',\n",
    "#                    showHist = True, debug = False, HSVrange =[(20, 30, 70),(60, 120,220)])\n",
    "\n",
    "# BinarizeAndFitArea('220112_S3',StackList220112_S3,P220112_S3,Scale220112,FPH220112,Delay220112,0.95,'CF',\n",
    "#                    showHist = True, debug = False, HSVrange =[(20, 30, 70),(60, 120,220)])\n",
    "\n",
    "\n",
    "\n",
    "# BinarizeAndFitArea('220114_S1',StackList220114_S1,P220114_S1,Scale220114,FPH220114,Delay220114,0.95,'CF',\n",
    "#                    showHist = True, debug = False, HSVrange =[(25, 25, 70),(60, 120,220)])\n",
    "\n",
    "# BinarizeAndFitArea('220114_S3',StackList220114_S3,P220114_S3,Scale220114,FPH220114,Delay220114,0.95,'CF',\n",
    "#                    showHist = True, debug = False, HSVrange =[(25, 25, 70),(60, 120,220)])"
   ]
  },
  {
   "cell_type": "markdown",
   "metadata": {},
   "source": [
    "#### System controls with Stade1 & degas DV6 (24-01-2022,03/13-02-2022)"
   ]
  },
  {
   "cell_type": "code",
   "execution_count": null,
   "metadata": {
    "scrolled": true
   },
   "outputs": [],
   "source": [
    "BinarizeAndFitArea('220124_Ct1',StackList220124_Ct1,P220124_Ct1,Scale220124,FPH220124,Delay220124,0.95,'F',\n",
    "                   showHist = True, debug = False, HSVrange =[(15, 17, 60),(70, 120,220)])\n",
    "\n",
    "BinarizeAndFitArea('220124_Ct2',StackList220124_Ct2,P220124_Ct2,Scale220124,FPH220124,Delay220124,0.95,'F',\n",
    "                    showHist = True, debug = False, HSVrange =[(15, 17, 60),(70, 120,220)])\n",
    "\n",
    "BinarizeAndFitArea('220203_Ct1',StackList220203_Ct1,P220203_Ct1,Scale220203,FPH220203,Delay220203,0.95,'F',\n",
    "                   showHist = True, debug = False, HSVrange =[(15, 17, 60),(70, 120,220)])\n",
    "\n",
    "BinarizeAndFitArea('220203_Ct2',StackList220203_Ct2,P220203_Ct2,Scale220203,FPH220203,Delay220203,0.95,'F',\n",
    "                    showHist = True, debug = False, HSVrange =[(15, 17, 60),(70, 140,220)])\n",
    "\n",
    "BinarizeAndFitArea('220214_Ct1',StackList220214_Ct1,P220214_Ct1,Scale220214,FPH220214,Delay220214,0.95,'F',\n",
    "                   showHist = True, debug = False, HSVrange =[(15, 17, 60),(70, 120,220)])\n",
    "\n",
    "BinarizeAndFitArea('220214_Ct2',StackList220214_Ct2,P220214_Ct2,Scale220214,FPH220214,Delay220214,0.95,'F',\n",
    "                   showHist = True, debug = False, HSVrange =[(15, 17, 60),(70, 140,220)])"
   ]
  },
  {
   "cell_type": "markdown",
   "metadata": {},
   "source": [
    "#### Osmotic choc after 14-02-2022 "
   ]
  },
  {
   "cell_type": "code",
   "execution_count": null,
   "metadata": {
    "scrolled": false
   },
   "outputs": [],
   "source": [
    "BinarizeAndFitOsChoc('220214_Ct1_Osmo',StackList220214_Ct1_Osmo,P220214_Ct1_Osmo,Scale220214_Osmo,FPH220214_Osmo,0.98,'F',\n",
    "                   showHist = True, debug = False, HSVrange =[(15, 17, 60),(70, 140,220)],FitInterval = [0,25])\n",
    "\n",
    "\n",
    "BinarizeAndFitOsChoc('220214_Ct2_Osmo',StackList220214_Ct2_Osmo,P220214_Ct2_Osmo,Scale220214_Osmo,FPH220214_Osmo,0.98,'F',\n",
    "                   showHist = True, debug = False, HSVrange =[(15, 17, 60),(70, 140,220)],FitInterval = [0,25])\n"
   ]
  },
  {
   "cell_type": "markdown",
   "metadata": {},
   "source": [
    "#### Manitol 100mM (01-03-2022) + OC"
   ]
  },
  {
   "cell_type": "code",
   "execution_count": null,
   "metadata": {
    "scrolled": false
   },
   "outputs": [],
   "source": [
    "BinarizeAndFitArea('220301_Ct',StackList220301_Ct,P220301_Ct,Scale220301,FPH220301,Delay220301,0.9,'F',\n",
    "                   showHist = True, debug = False, debuglist = [0], HSVrange =[(15, 17, 60),(70, 140,220)])\n",
    "BinarizeAndFitOsChoc('220301_Ct_Osmo',StackList220301_Ct_Osmo,P220301_Ct_Osmo,Scale220301_Osmo,FPH220301_Osmo,0.95,'F',\n",
    "                   showHist = True, debug = False, debuglist = [0], HSVrange =[(15, 17, 60),(70, 140,220)],FitInterval = [0,30])\n",
    "\n",
    "BinarizeAndFitArea('220301_M100',StackList220301_M100,P220301_M100,Scale220301,FPH220301,Delay220301,0.9,'F',\n",
    "                   showHist = True, debug = False, debuglist = [0], HSVrange =[(15, 17, 60),(70, 140,220)])\n",
    "BinarizeAndFitOsChoc('220301_M100_Osmo',StackList220301_M100_Osmo,P220301_M100_Osmo,Scale220301_Osmo,FPH220301_Osmo,0.95,'F',\n",
    "                   showHist = True, debug = False, debuglist = [0], HSVrange =[(15, 17, 60),(70, 140,220)],FitInterval = [0,30])"
   ]
  },
  {
   "cell_type": "markdown",
   "metadata": {},
   "source": [
    "## Test Zone"
   ]
  },
  {
   "cell_type": "code",
   "execution_count": null,
   "metadata": {},
   "outputs": [],
   "source": [
    "print('It works!')"
   ]
  },
  {
   "cell_type": "code",
   "execution_count": null,
   "metadata": {
    "scrolled": false
   },
   "outputs": [],
   "source": [
    "# %run D:/Users/laplaud/Desktop/PostDoc/Code/JupyterNB/PropaguleAnalysis/2_AreaAnalysis.ipynb"
   ]
  }
 ],
 "metadata": {
  "celltoolbar": "Initialization Cell",
  "kernelspec": {
   "display_name": "Python 3",
   "language": "python",
   "name": "python3"
  },
  "language_info": {
   "codemirror_mode": {
    "name": "ipython",
    "version": 3
   },
   "file_extension": ".py",
   "mimetype": "text/x-python",
   "name": "python",
   "nbconvert_exporter": "python",
   "pygments_lexer": "ipython3",
   "version": "3.8.5"
  },
  "toc": {
   "base_numbering": 1,
   "nav_menu": {},
   "number_sections": true,
   "sideBar": true,
   "skip_h1_title": true,
   "title_cell": "Table of Contents",
   "title_sidebar": "Contents",
   "toc_cell": false,
   "toc_position": {
    "height": "750px",
    "left": "76px",
    "top": "59.1167px",
    "width": "299px"
   },
   "toc_section_display": true,
   "toc_window_display": true
  }
 },
 "nbformat": 4,
 "nbformat_minor": 4
}
